{
 "cells": [
  {
   "cell_type": "markdown",
   "metadata": {},
   "source": [
    "# Проект Исследование надежности заемщиков."
   ]
  },
  {
   "cell_type": "markdown",
   "metadata": {},
   "source": [
    "### Задача\n",
    "Заказчик — кредитный отдел банка. Нужно разобраться, влияет ли семейное положение и количество детей клиента на факт погашения кредита в срок. Входные данные от банка — статистика о платёжеспособности клиентов.\n",
    "Результаты исследования будут учтены при построении модели кредитного скоринга — специальной системы, которая оценивает способность потенциального заёмщика вернуть кредит банку. "
   ]
  },
  {
   "cell_type": "markdown",
   "metadata": {},
   "source": [
    "### Шаг 1. Обзор данных"
   ]
  },
  {
   "cell_type": "code",
   "execution_count": 1,
   "metadata": {},
   "outputs": [],
   "source": [
    "import pandas as pd"
   ]
  },
  {
   "cell_type": "code",
   "execution_count": 2,
   "metadata": {},
   "outputs": [
    {
     "data": {
      "text/html": [
       "<div>\n",
       "<style scoped>\n",
       "    .dataframe tbody tr th:only-of-type {\n",
       "        vertical-align: middle;\n",
       "    }\n",
       "\n",
       "    .dataframe tbody tr th {\n",
       "        vertical-align: top;\n",
       "    }\n",
       "\n",
       "    .dataframe thead th {\n",
       "        text-align: right;\n",
       "    }\n",
       "</style>\n",
       "<table border=\"1\" class=\"dataframe\">\n",
       "  <thead>\n",
       "    <tr style=\"text-align: right;\">\n",
       "      <th></th>\n",
       "      <th>children</th>\n",
       "      <th>days_employed</th>\n",
       "      <th>dob_years</th>\n",
       "      <th>education</th>\n",
       "      <th>education_id</th>\n",
       "      <th>family_status</th>\n",
       "      <th>family_status_id</th>\n",
       "      <th>gender</th>\n",
       "      <th>income_type</th>\n",
       "      <th>debt</th>\n",
       "      <th>total_income</th>\n",
       "      <th>purpose</th>\n",
       "    </tr>\n",
       "  </thead>\n",
       "  <tbody>\n",
       "    <tr>\n",
       "      <th>0</th>\n",
       "      <td>1</td>\n",
       "      <td>-8437.673028</td>\n",
       "      <td>42</td>\n",
       "      <td>высшее</td>\n",
       "      <td>0</td>\n",
       "      <td>женат / замужем</td>\n",
       "      <td>0</td>\n",
       "      <td>F</td>\n",
       "      <td>сотрудник</td>\n",
       "      <td>0</td>\n",
       "      <td>253875.639453</td>\n",
       "      <td>покупка жилья</td>\n",
       "    </tr>\n",
       "    <tr>\n",
       "      <th>1</th>\n",
       "      <td>1</td>\n",
       "      <td>-4024.803754</td>\n",
       "      <td>36</td>\n",
       "      <td>среднее</td>\n",
       "      <td>1</td>\n",
       "      <td>женат / замужем</td>\n",
       "      <td>0</td>\n",
       "      <td>F</td>\n",
       "      <td>сотрудник</td>\n",
       "      <td>0</td>\n",
       "      <td>112080.014102</td>\n",
       "      <td>приобретение автомобиля</td>\n",
       "    </tr>\n",
       "    <tr>\n",
       "      <th>2</th>\n",
       "      <td>0</td>\n",
       "      <td>-5623.422610</td>\n",
       "      <td>33</td>\n",
       "      <td>Среднее</td>\n",
       "      <td>1</td>\n",
       "      <td>женат / замужем</td>\n",
       "      <td>0</td>\n",
       "      <td>M</td>\n",
       "      <td>сотрудник</td>\n",
       "      <td>0</td>\n",
       "      <td>145885.952297</td>\n",
       "      <td>покупка жилья</td>\n",
       "    </tr>\n",
       "    <tr>\n",
       "      <th>3</th>\n",
       "      <td>3</td>\n",
       "      <td>-4124.747207</td>\n",
       "      <td>32</td>\n",
       "      <td>среднее</td>\n",
       "      <td>1</td>\n",
       "      <td>женат / замужем</td>\n",
       "      <td>0</td>\n",
       "      <td>M</td>\n",
       "      <td>сотрудник</td>\n",
       "      <td>0</td>\n",
       "      <td>267628.550329</td>\n",
       "      <td>дополнительное образование</td>\n",
       "    </tr>\n",
       "    <tr>\n",
       "      <th>4</th>\n",
       "      <td>0</td>\n",
       "      <td>340266.072047</td>\n",
       "      <td>53</td>\n",
       "      <td>среднее</td>\n",
       "      <td>1</td>\n",
       "      <td>гражданский брак</td>\n",
       "      <td>1</td>\n",
       "      <td>F</td>\n",
       "      <td>пенсионер</td>\n",
       "      <td>0</td>\n",
       "      <td>158616.077870</td>\n",
       "      <td>сыграть свадьбу</td>\n",
       "    </tr>\n",
       "    <tr>\n",
       "      <th>5</th>\n",
       "      <td>0</td>\n",
       "      <td>-926.185831</td>\n",
       "      <td>27</td>\n",
       "      <td>высшее</td>\n",
       "      <td>0</td>\n",
       "      <td>гражданский брак</td>\n",
       "      <td>1</td>\n",
       "      <td>M</td>\n",
       "      <td>компаньон</td>\n",
       "      <td>0</td>\n",
       "      <td>255763.565419</td>\n",
       "      <td>покупка жилья</td>\n",
       "    </tr>\n",
       "    <tr>\n",
       "      <th>6</th>\n",
       "      <td>0</td>\n",
       "      <td>-2879.202052</td>\n",
       "      <td>43</td>\n",
       "      <td>высшее</td>\n",
       "      <td>0</td>\n",
       "      <td>женат / замужем</td>\n",
       "      <td>0</td>\n",
       "      <td>F</td>\n",
       "      <td>компаньон</td>\n",
       "      <td>0</td>\n",
       "      <td>240525.971920</td>\n",
       "      <td>операции с жильем</td>\n",
       "    </tr>\n",
       "    <tr>\n",
       "      <th>7</th>\n",
       "      <td>0</td>\n",
       "      <td>-152.779569</td>\n",
       "      <td>50</td>\n",
       "      <td>СРЕДНЕЕ</td>\n",
       "      <td>1</td>\n",
       "      <td>женат / замужем</td>\n",
       "      <td>0</td>\n",
       "      <td>M</td>\n",
       "      <td>сотрудник</td>\n",
       "      <td>0</td>\n",
       "      <td>135823.934197</td>\n",
       "      <td>образование</td>\n",
       "    </tr>\n",
       "    <tr>\n",
       "      <th>8</th>\n",
       "      <td>2</td>\n",
       "      <td>-6929.865299</td>\n",
       "      <td>35</td>\n",
       "      <td>ВЫСШЕЕ</td>\n",
       "      <td>0</td>\n",
       "      <td>гражданский брак</td>\n",
       "      <td>1</td>\n",
       "      <td>F</td>\n",
       "      <td>сотрудник</td>\n",
       "      <td>0</td>\n",
       "      <td>95856.832424</td>\n",
       "      <td>на проведение свадьбы</td>\n",
       "    </tr>\n",
       "    <tr>\n",
       "      <th>9</th>\n",
       "      <td>0</td>\n",
       "      <td>-2188.756445</td>\n",
       "      <td>41</td>\n",
       "      <td>среднее</td>\n",
       "      <td>1</td>\n",
       "      <td>женат / замужем</td>\n",
       "      <td>0</td>\n",
       "      <td>M</td>\n",
       "      <td>сотрудник</td>\n",
       "      <td>0</td>\n",
       "      <td>144425.938277</td>\n",
       "      <td>покупка жилья для семьи</td>\n",
       "    </tr>\n",
       "  </tbody>\n",
       "</table>\n",
       "</div>"
      ],
      "text/plain": [
       "   children  days_employed  dob_years education  education_id  \\\n",
       "0         1   -8437.673028         42    высшее             0   \n",
       "1         1   -4024.803754         36   среднее             1   \n",
       "2         0   -5623.422610         33   Среднее             1   \n",
       "3         3   -4124.747207         32   среднее             1   \n",
       "4         0  340266.072047         53   среднее             1   \n",
       "5         0    -926.185831         27    высшее             0   \n",
       "6         0   -2879.202052         43    высшее             0   \n",
       "7         0    -152.779569         50   СРЕДНЕЕ             1   \n",
       "8         2   -6929.865299         35    ВЫСШЕЕ             0   \n",
       "9         0   -2188.756445         41   среднее             1   \n",
       "\n",
       "      family_status  family_status_id gender income_type  debt   total_income  \\\n",
       "0   женат / замужем                 0      F   сотрудник     0  253875.639453   \n",
       "1   женат / замужем                 0      F   сотрудник     0  112080.014102   \n",
       "2   женат / замужем                 0      M   сотрудник     0  145885.952297   \n",
       "3   женат / замужем                 0      M   сотрудник     0  267628.550329   \n",
       "4  гражданский брак                 1      F   пенсионер     0  158616.077870   \n",
       "5  гражданский брак                 1      M   компаньон     0  255763.565419   \n",
       "6   женат / замужем                 0      F   компаньон     0  240525.971920   \n",
       "7   женат / замужем                 0      M   сотрудник     0  135823.934197   \n",
       "8  гражданский брак                 1      F   сотрудник     0   95856.832424   \n",
       "9   женат / замужем                 0      M   сотрудник     0  144425.938277   \n",
       "\n",
       "                      purpose  \n",
       "0               покупка жилья  \n",
       "1     приобретение автомобиля  \n",
       "2               покупка жилья  \n",
       "3  дополнительное образование  \n",
       "4             сыграть свадьбу  \n",
       "5               покупка жилья  \n",
       "6           операции с жильем  \n",
       "7                 образование  \n",
       "8       на проведение свадьбы  \n",
       "9     покупка жилья для семьи  "
      ]
     },
     "metadata": {},
     "output_type": "display_data"
    }
   ],
   "source": [
    "data = pd.read_csv('data.csv')\n",
    "display(data.head(10))"
   ]
  },
  {
   "cell_type": "code",
   "execution_count": 3,
   "metadata": {},
   "outputs": [
    {
     "name": "stdout",
     "output_type": "stream",
     "text": [
      "<class 'pandas.core.frame.DataFrame'>\n",
      "RangeIndex: 21525 entries, 0 to 21524\n",
      "Data columns (total 12 columns):\n",
      " #   Column            Non-Null Count  Dtype  \n",
      "---  ------            --------------  -----  \n",
      " 0   children          21525 non-null  int64  \n",
      " 1   days_employed     19351 non-null  float64\n",
      " 2   dob_years         21525 non-null  int64  \n",
      " 3   education         21525 non-null  object \n",
      " 4   education_id      21525 non-null  int64  \n",
      " 5   family_status     21525 non-null  object \n",
      " 6   family_status_id  21525 non-null  int64  \n",
      " 7   gender            21525 non-null  object \n",
      " 8   income_type       21525 non-null  object \n",
      " 9   debt              21525 non-null  int64  \n",
      " 10  total_income      19351 non-null  float64\n",
      " 11  purpose           21525 non-null  object \n",
      "dtypes: float64(2), int64(5), object(5)\n",
      "memory usage: 2.0+ MB\n",
      "None\n"
     ]
    }
   ],
   "source": [
    "print(data.info())"
   ]
  },
  {
   "cell_type": "markdown",
   "metadata": {},
   "source": [
    "#### Необходимо заполнить пропуски, провести анализ дубликатов и привести к некоторые поля к нужным типам, чтобы продолжать исследование"
   ]
  },
  {
   "cell_type": "markdown",
   "metadata": {},
   "source": [
    "### Шаг 2.1 Заполнение пропусков"
   ]
  },
  {
   "cell_type": "code",
   "execution_count": 4,
   "metadata": {},
   "outputs": [
    {
     "name": "stdout",
     "output_type": "stream",
     "text": [
      "Пропущенные значения в столбцах total_income и days_employed\n",
      "Доля пропущенных значений в обоих столбцах:0.101\n"
     ]
    }
   ],
   "source": [
    "print('Пропущенные значения в столбцах total_income и days_employed')\n",
    "\n",
    "print(f'Доля пропущенных значений в обоих столбцах:{(data[\"days_employed\"].isnull().sum()/data[\"children\"].count()):.3}')"
   ]
  },
  {
   "cell_type": "code",
   "execution_count": 5,
   "metadata": {},
   "outputs": [],
   "source": [
    "# Заполним значения медианными, как наиболее показательными\n",
    "data['days_employed'] = data['days_employed'].fillna(data['days_employed'].median())\n",
    "data['total_income'] = data['total_income'].fillna(data['total_income'].median())"
   ]
  },
  {
   "cell_type": "markdown",
   "metadata": {},
   "source": [
    "Причина: Если человек не работал ни одного дня, он не будет вносить это значение, \n",
    "соответственно общий доход при 0 рабочих дней равен нулю. Либо это просто техническая ошибка."
   ]
  },
  {
   "cell_type": "markdown",
   "metadata": {},
   "source": [
    "### Шаг 2.2 Проверка данных на аномалии и исправления."
   ]
  },
  {
   "cell_type": "code",
   "execution_count": 6,
   "metadata": {},
   "outputs": [],
   "source": [
    "data['days_employed'] = abs(data['days_employed'])\n",
    "#Избавляемся от отрицательных значений дней стажа\n",
    "#display(data['days_employed'])\n"
   ]
  },
  {
   "cell_type": "code",
   "execution_count": 7,
   "metadata": {},
   "outputs": [
    {
     "data": {
      "text/plain": [
       "array([1, 0, 3, 2, 4, 5], dtype=int64)"
      ]
     },
     "execution_count": 7,
     "metadata": {},
     "output_type": "execute_result"
    }
   ],
   "source": [
    "data['children'] = abs(data['children'])\n",
    "data['children'] = data['children'].replace(20,2)\n",
    "data['children'].unique() \n",
    "#Избавляемся от отрицательных и аномальных значений у детей"
   ]
  },
  {
   "cell_type": "code",
   "execution_count": 8,
   "metadata": {},
   "outputs": [
    {
     "data": {
      "text/plain": [
       "array(['F', 'M'], dtype=object)"
      ]
     },
     "execution_count": 8,
     "metadata": {},
     "output_type": "execute_result"
    }
   ],
   "source": [
    "data['gender'] = data['gender'].replace('XNA','F')\n",
    "data['gender'].unique()\n",
    "#Существуют только два гендера!"
   ]
  },
  {
   "cell_type": "code",
   "execution_count": 9,
   "metadata": {},
   "outputs": [
    {
     "name": "stdout",
     "output_type": "stream",
     "text": [
      "101\n"
     ]
    }
   ],
   "source": [
    "print(data[data['dob_years']<18]['dob_years'].count())\n",
    "#Если мне не изменяет память, то в России несовершеннолетним кредиты не дают\n",
    "data = data.loc[data['dob_years'] >= 18]"
   ]
  },
  {
   "cell_type": "code",
   "execution_count": 10,
   "metadata": {},
   "outputs": [
    {
     "data": {
      "text/html": [
       "<div>\n",
       "<style scoped>\n",
       "    .dataframe tbody tr th:only-of-type {\n",
       "        vertical-align: middle;\n",
       "    }\n",
       "\n",
       "    .dataframe tbody tr th {\n",
       "        vertical-align: top;\n",
       "    }\n",
       "\n",
       "    .dataframe thead th {\n",
       "        text-align: right;\n",
       "    }\n",
       "</style>\n",
       "<table border=\"1\" class=\"dataframe\">\n",
       "  <thead>\n",
       "    <tr style=\"text-align: right;\">\n",
       "      <th></th>\n",
       "      <th>children</th>\n",
       "      <th>days_employed</th>\n",
       "      <th>dob_years</th>\n",
       "      <th>education_id</th>\n",
       "      <th>family_status_id</th>\n",
       "      <th>debt</th>\n",
       "      <th>total_income</th>\n",
       "    </tr>\n",
       "  </thead>\n",
       "  <tbody>\n",
       "    <tr>\n",
       "      <th>count</th>\n",
       "      <td>21424.000000</td>\n",
       "      <td>21424.000000</td>\n",
       "      <td>21424.000000</td>\n",
       "      <td>21424.000000</td>\n",
       "      <td>21424.000000</td>\n",
       "      <td>21424.000000</td>\n",
       "      <td>2.142400e+04</td>\n",
       "    </tr>\n",
       "    <tr>\n",
       "      <th>mean</th>\n",
       "      <td>0.479649</td>\n",
       "      <td>60266.292250</td>\n",
       "      <td>43.497479</td>\n",
       "      <td>0.817914</td>\n",
       "      <td>0.971294</td>\n",
       "      <td>0.080891</td>\n",
       "      <td>1.651979e+05</td>\n",
       "    </tr>\n",
       "    <tr>\n",
       "      <th>std</th>\n",
       "      <td>0.755293</td>\n",
       "      <td>133292.330795</td>\n",
       "      <td>12.246934</td>\n",
       "      <td>0.548224</td>\n",
       "      <td>1.419737</td>\n",
       "      <td>0.272673</td>\n",
       "      <td>9.797597e+04</td>\n",
       "    </tr>\n",
       "    <tr>\n",
       "      <th>min</th>\n",
       "      <td>0.000000</td>\n",
       "      <td>24.141633</td>\n",
       "      <td>19.000000</td>\n",
       "      <td>0.000000</td>\n",
       "      <td>0.000000</td>\n",
       "      <td>0.000000</td>\n",
       "      <td>2.066726e+04</td>\n",
       "    </tr>\n",
       "    <tr>\n",
       "      <th>25%</th>\n",
       "      <td>0.000000</td>\n",
       "      <td>1025.650954</td>\n",
       "      <td>33.000000</td>\n",
       "      <td>1.000000</td>\n",
       "      <td>0.000000</td>\n",
       "      <td>0.000000</td>\n",
       "      <td>1.078249e+05</td>\n",
       "    </tr>\n",
       "    <tr>\n",
       "      <th>50%</th>\n",
       "      <td>0.000000</td>\n",
       "      <td>1810.868889</td>\n",
       "      <td>43.000000</td>\n",
       "      <td>1.000000</td>\n",
       "      <td>0.000000</td>\n",
       "      <td>0.000000</td>\n",
       "      <td>1.450179e+05</td>\n",
       "    </tr>\n",
       "    <tr>\n",
       "      <th>75%</th>\n",
       "      <td>1.000000</td>\n",
       "      <td>4779.464934</td>\n",
       "      <td>53.000000</td>\n",
       "      <td>1.000000</td>\n",
       "      <td>1.000000</td>\n",
       "      <td>0.000000</td>\n",
       "      <td>1.955086e+05</td>\n",
       "    </tr>\n",
       "    <tr>\n",
       "      <th>max</th>\n",
       "      <td>5.000000</td>\n",
       "      <td>401755.400475</td>\n",
       "      <td>75.000000</td>\n",
       "      <td>4.000000</td>\n",
       "      <td>4.000000</td>\n",
       "      <td>1.000000</td>\n",
       "      <td>2.265604e+06</td>\n",
       "    </tr>\n",
       "  </tbody>\n",
       "</table>\n",
       "</div>"
      ],
      "text/plain": [
       "           children  days_employed     dob_years  education_id  \\\n",
       "count  21424.000000   21424.000000  21424.000000  21424.000000   \n",
       "mean       0.479649   60266.292250     43.497479      0.817914   \n",
       "std        0.755293  133292.330795     12.246934      0.548224   \n",
       "min        0.000000      24.141633     19.000000      0.000000   \n",
       "25%        0.000000    1025.650954     33.000000      1.000000   \n",
       "50%        0.000000    1810.868889     43.000000      1.000000   \n",
       "75%        1.000000    4779.464934     53.000000      1.000000   \n",
       "max        5.000000  401755.400475     75.000000      4.000000   \n",
       "\n",
       "       family_status_id          debt  total_income  \n",
       "count      21424.000000  21424.000000  2.142400e+04  \n",
       "mean           0.971294      0.080891  1.651979e+05  \n",
       "std            1.419737      0.272673  9.797597e+04  \n",
       "min            0.000000      0.000000  2.066726e+04  \n",
       "25%            0.000000      0.000000  1.078249e+05  \n",
       "50%            0.000000      0.000000  1.450179e+05  \n",
       "75%            1.000000      0.000000  1.955086e+05  \n",
       "max            4.000000      1.000000  2.265604e+06  "
      ]
     },
     "execution_count": 10,
     "metadata": {},
     "output_type": "execute_result"
    }
   ],
   "source": [
    "data.describe()"
   ]
  },
  {
   "cell_type": "markdown",
   "metadata": {},
   "source": [
    "### Шаг 2.3. Изменение типов данных."
   ]
  },
  {
   "cell_type": "code",
   "execution_count": 11,
   "metadata": {},
   "outputs": [],
   "source": [
    "#Данные поля лучше разумно привести к целочисленным значениям\n",
    "data['total_income'] = data['total_income'].astype('int')\n",
    "data['days_employed'] = data['days_employed'].astype('int')\n",
    "#display(data['total_income'].head(15))"
   ]
  },
  {
   "cell_type": "markdown",
   "metadata": {},
   "source": [
    "### Шаг 2.4. Удаление дубликатов."
   ]
  },
  {
   "cell_type": "code",
   "execution_count": 12,
   "metadata": {},
   "outputs": [
    {
     "name": "stdout",
     "output_type": "stream",
     "text": [
      "0\n"
     ]
    },
    {
     "data": {
      "text/plain": [
       "array(['высшее', 'среднее', 'неоконченное высшее', 'начальное',\n",
       "       'ученая степень'], dtype=object)"
      ]
     },
     "execution_count": 12,
     "metadata": {},
     "output_type": "execute_result"
    }
   ],
   "source": [
    "data = data.drop_duplicates().reset_index(drop=True)\n",
    "print(data.duplicated().sum())\n",
    "#Избавился от явных дубликатов\n",
    "data['education'] = data['education'].str.lower()\n",
    "data['education'].unique()\n",
    "#Избавился от неявных дубликатов в education"
   ]
  },
  {
   "cell_type": "markdown",
   "metadata": {},
   "source": [
    "Явные дубликаты удаляются при помощи встроенных инструментов pandas, неявные элементы убираются вручную путем приведения их к единому виду.\n",
    "Дубликаты появляются из за отстутствие валидации при заполнении данных.\n",
    "Неявные дубликаты имеются в столбце цель(purpose). Но исправлять их будем позже."
   ]
  },
  {
   "cell_type": "markdown",
   "metadata": {},
   "source": [
    "### Шаг 2.5. Формирование дополнительных датафреймов словарей, декомпозиция исходного датафрейма."
   ]
  },
  {
   "cell_type": "markdown",
   "metadata": {},
   "source": [
    "#### Необходимо сформировать дополнительные датафреймы для решения проблемы категориальных переменных образования и семейного положения"
   ]
  },
  {
   "cell_type": "code",
   "execution_count": 13,
   "metadata": {},
   "outputs": [],
   "source": [
    "df_ed = data[['education_id', 'education']]\n",
    "df_ed = df_ed.drop_duplicates().reset_index(drop=True)\n",
    "df_fs = data[['family_status_id', 'family_status']]\n",
    "df_fs = df_fs.drop_duplicates().reset_index(drop=True)"
   ]
  },
  {
   "cell_type": "code",
   "execution_count": 14,
   "metadata": {},
   "outputs": [],
   "source": [
    "data = data.drop(columns = ['family_status', 'education'], axis = 1)"
   ]
  },
  {
   "cell_type": "code",
   "execution_count": 15,
   "metadata": {},
   "outputs": [
    {
     "data": {
      "text/html": [
       "<div>\n",
       "<style scoped>\n",
       "    .dataframe tbody tr th:only-of-type {\n",
       "        vertical-align: middle;\n",
       "    }\n",
       "\n",
       "    .dataframe tbody tr th {\n",
       "        vertical-align: top;\n",
       "    }\n",
       "\n",
       "    .dataframe thead th {\n",
       "        text-align: right;\n",
       "    }\n",
       "</style>\n",
       "<table border=\"1\" class=\"dataframe\">\n",
       "  <thead>\n",
       "    <tr style=\"text-align: right;\">\n",
       "      <th></th>\n",
       "      <th>education_id</th>\n",
       "      <th>education</th>\n",
       "    </tr>\n",
       "  </thead>\n",
       "  <tbody>\n",
       "    <tr>\n",
       "      <th>0</th>\n",
       "      <td>0</td>\n",
       "      <td>высшее</td>\n",
       "    </tr>\n",
       "    <tr>\n",
       "      <th>1</th>\n",
       "      <td>1</td>\n",
       "      <td>среднее</td>\n",
       "    </tr>\n",
       "    <tr>\n",
       "      <th>2</th>\n",
       "      <td>2</td>\n",
       "      <td>неоконченное высшее</td>\n",
       "    </tr>\n",
       "    <tr>\n",
       "      <th>3</th>\n",
       "      <td>3</td>\n",
       "      <td>начальное</td>\n",
       "    </tr>\n",
       "    <tr>\n",
       "      <th>4</th>\n",
       "      <td>4</td>\n",
       "      <td>ученая степень</td>\n",
       "    </tr>\n",
       "  </tbody>\n",
       "</table>\n",
       "</div>"
      ],
      "text/plain": [
       "   education_id            education\n",
       "0             0               высшее\n",
       "1             1              среднее\n",
       "2             2  неоконченное высшее\n",
       "3             3            начальное\n",
       "4             4       ученая степень"
      ]
     },
     "metadata": {},
     "output_type": "display_data"
    }
   ],
   "source": [
    "display(df_ed)"
   ]
  },
  {
   "cell_type": "code",
   "execution_count": 16,
   "metadata": {},
   "outputs": [
    {
     "data": {
      "text/html": [
       "<div>\n",
       "<style scoped>\n",
       "    .dataframe tbody tr th:only-of-type {\n",
       "        vertical-align: middle;\n",
       "    }\n",
       "\n",
       "    .dataframe tbody tr th {\n",
       "        vertical-align: top;\n",
       "    }\n",
       "\n",
       "    .dataframe thead th {\n",
       "        text-align: right;\n",
       "    }\n",
       "</style>\n",
       "<table border=\"1\" class=\"dataframe\">\n",
       "  <thead>\n",
       "    <tr style=\"text-align: right;\">\n",
       "      <th></th>\n",
       "      <th>family_status_id</th>\n",
       "      <th>family_status</th>\n",
       "    </tr>\n",
       "  </thead>\n",
       "  <tbody>\n",
       "    <tr>\n",
       "      <th>0</th>\n",
       "      <td>0</td>\n",
       "      <td>женат / замужем</td>\n",
       "    </tr>\n",
       "    <tr>\n",
       "      <th>1</th>\n",
       "      <td>1</td>\n",
       "      <td>гражданский брак</td>\n",
       "    </tr>\n",
       "    <tr>\n",
       "      <th>2</th>\n",
       "      <td>2</td>\n",
       "      <td>вдовец / вдова</td>\n",
       "    </tr>\n",
       "    <tr>\n",
       "      <th>3</th>\n",
       "      <td>3</td>\n",
       "      <td>в разводе</td>\n",
       "    </tr>\n",
       "    <tr>\n",
       "      <th>4</th>\n",
       "      <td>4</td>\n",
       "      <td>Не женат / не замужем</td>\n",
       "    </tr>\n",
       "  </tbody>\n",
       "</table>\n",
       "</div>"
      ],
      "text/plain": [
       "   family_status_id          family_status\n",
       "0                 0        женат / замужем\n",
       "1                 1       гражданский брак\n",
       "2                 2         вдовец / вдова\n",
       "3                 3              в разводе\n",
       "4                 4  Не женат / не замужем"
      ]
     },
     "metadata": {},
     "output_type": "display_data"
    }
   ],
   "source": [
    "display(df_fs)"
   ]
  },
  {
   "cell_type": "markdown",
   "metadata": {},
   "source": [
    "### Шаг 2.6. Категоризация дохода."
   ]
  },
  {
   "cell_type": "code",
   "execution_count": 17,
   "metadata": {},
   "outputs": [
    {
     "data": {
      "text/html": [
       "<div>\n",
       "<style scoped>\n",
       "    .dataframe tbody tr th:only-of-type {\n",
       "        vertical-align: middle;\n",
       "    }\n",
       "\n",
       "    .dataframe tbody tr th {\n",
       "        vertical-align: top;\n",
       "    }\n",
       "\n",
       "    .dataframe thead th {\n",
       "        text-align: right;\n",
       "    }\n",
       "</style>\n",
       "<table border=\"1\" class=\"dataframe\">\n",
       "  <thead>\n",
       "    <tr style=\"text-align: right;\">\n",
       "      <th></th>\n",
       "      <th>children</th>\n",
       "      <th>days_employed</th>\n",
       "      <th>dob_years</th>\n",
       "      <th>education_id</th>\n",
       "      <th>family_status_id</th>\n",
       "      <th>gender</th>\n",
       "      <th>income_type</th>\n",
       "      <th>debt</th>\n",
       "      <th>total_income</th>\n",
       "      <th>purpose</th>\n",
       "      <th>total_income_category</th>\n",
       "    </tr>\n",
       "  </thead>\n",
       "  <tbody>\n",
       "    <tr>\n",
       "      <th>0</th>\n",
       "      <td>1</td>\n",
       "      <td>8437</td>\n",
       "      <td>42</td>\n",
       "      <td>0</td>\n",
       "      <td>0</td>\n",
       "      <td>F</td>\n",
       "      <td>сотрудник</td>\n",
       "      <td>0</td>\n",
       "      <td>253875</td>\n",
       "      <td>покупка жилья</td>\n",
       "      <td>B</td>\n",
       "    </tr>\n",
       "    <tr>\n",
       "      <th>1</th>\n",
       "      <td>1</td>\n",
       "      <td>4024</td>\n",
       "      <td>36</td>\n",
       "      <td>1</td>\n",
       "      <td>0</td>\n",
       "      <td>F</td>\n",
       "      <td>сотрудник</td>\n",
       "      <td>0</td>\n",
       "      <td>112080</td>\n",
       "      <td>приобретение автомобиля</td>\n",
       "      <td>C</td>\n",
       "    </tr>\n",
       "    <tr>\n",
       "      <th>2</th>\n",
       "      <td>0</td>\n",
       "      <td>5623</td>\n",
       "      <td>33</td>\n",
       "      <td>1</td>\n",
       "      <td>0</td>\n",
       "      <td>M</td>\n",
       "      <td>сотрудник</td>\n",
       "      <td>0</td>\n",
       "      <td>145885</td>\n",
       "      <td>покупка жилья</td>\n",
       "      <td>C</td>\n",
       "    </tr>\n",
       "    <tr>\n",
       "      <th>3</th>\n",
       "      <td>3</td>\n",
       "      <td>4124</td>\n",
       "      <td>32</td>\n",
       "      <td>1</td>\n",
       "      <td>0</td>\n",
       "      <td>M</td>\n",
       "      <td>сотрудник</td>\n",
       "      <td>0</td>\n",
       "      <td>267628</td>\n",
       "      <td>дополнительное образование</td>\n",
       "      <td>B</td>\n",
       "    </tr>\n",
       "    <tr>\n",
       "      <th>4</th>\n",
       "      <td>0</td>\n",
       "      <td>340266</td>\n",
       "      <td>53</td>\n",
       "      <td>1</td>\n",
       "      <td>1</td>\n",
       "      <td>F</td>\n",
       "      <td>пенсионер</td>\n",
       "      <td>0</td>\n",
       "      <td>158616</td>\n",
       "      <td>сыграть свадьбу</td>\n",
       "      <td>C</td>\n",
       "    </tr>\n",
       "    <tr>\n",
       "      <th>5</th>\n",
       "      <td>0</td>\n",
       "      <td>926</td>\n",
       "      <td>27</td>\n",
       "      <td>0</td>\n",
       "      <td>1</td>\n",
       "      <td>M</td>\n",
       "      <td>компаньон</td>\n",
       "      <td>0</td>\n",
       "      <td>255763</td>\n",
       "      <td>покупка жилья</td>\n",
       "      <td>B</td>\n",
       "    </tr>\n",
       "    <tr>\n",
       "      <th>6</th>\n",
       "      <td>0</td>\n",
       "      <td>2879</td>\n",
       "      <td>43</td>\n",
       "      <td>0</td>\n",
       "      <td>0</td>\n",
       "      <td>F</td>\n",
       "      <td>компаньон</td>\n",
       "      <td>0</td>\n",
       "      <td>240525</td>\n",
       "      <td>операции с жильем</td>\n",
       "      <td>B</td>\n",
       "    </tr>\n",
       "    <tr>\n",
       "      <th>7</th>\n",
       "      <td>0</td>\n",
       "      <td>152</td>\n",
       "      <td>50</td>\n",
       "      <td>1</td>\n",
       "      <td>0</td>\n",
       "      <td>M</td>\n",
       "      <td>сотрудник</td>\n",
       "      <td>0</td>\n",
       "      <td>135823</td>\n",
       "      <td>образование</td>\n",
       "      <td>C</td>\n",
       "    </tr>\n",
       "    <tr>\n",
       "      <th>8</th>\n",
       "      <td>2</td>\n",
       "      <td>6929</td>\n",
       "      <td>35</td>\n",
       "      <td>0</td>\n",
       "      <td>1</td>\n",
       "      <td>F</td>\n",
       "      <td>сотрудник</td>\n",
       "      <td>0</td>\n",
       "      <td>95856</td>\n",
       "      <td>на проведение свадьбы</td>\n",
       "      <td>C</td>\n",
       "    </tr>\n",
       "    <tr>\n",
       "      <th>9</th>\n",
       "      <td>0</td>\n",
       "      <td>2188</td>\n",
       "      <td>41</td>\n",
       "      <td>1</td>\n",
       "      <td>0</td>\n",
       "      <td>M</td>\n",
       "      <td>сотрудник</td>\n",
       "      <td>0</td>\n",
       "      <td>144425</td>\n",
       "      <td>покупка жилья для семьи</td>\n",
       "      <td>C</td>\n",
       "    </tr>\n",
       "    <tr>\n",
       "      <th>10</th>\n",
       "      <td>2</td>\n",
       "      <td>4171</td>\n",
       "      <td>36</td>\n",
       "      <td>0</td>\n",
       "      <td>0</td>\n",
       "      <td>M</td>\n",
       "      <td>компаньон</td>\n",
       "      <td>0</td>\n",
       "      <td>113943</td>\n",
       "      <td>покупка недвижимости</td>\n",
       "      <td>C</td>\n",
       "    </tr>\n",
       "    <tr>\n",
       "      <th>11</th>\n",
       "      <td>0</td>\n",
       "      <td>792</td>\n",
       "      <td>40</td>\n",
       "      <td>1</td>\n",
       "      <td>0</td>\n",
       "      <td>F</td>\n",
       "      <td>сотрудник</td>\n",
       "      <td>0</td>\n",
       "      <td>77069</td>\n",
       "      <td>покупка коммерческой недвижимости</td>\n",
       "      <td>C</td>\n",
       "    </tr>\n",
       "    <tr>\n",
       "      <th>12</th>\n",
       "      <td>0</td>\n",
       "      <td>1203</td>\n",
       "      <td>65</td>\n",
       "      <td>1</td>\n",
       "      <td>1</td>\n",
       "      <td>M</td>\n",
       "      <td>пенсионер</td>\n",
       "      <td>0</td>\n",
       "      <td>145017</td>\n",
       "      <td>сыграть свадьбу</td>\n",
       "      <td>C</td>\n",
       "    </tr>\n",
       "    <tr>\n",
       "      <th>13</th>\n",
       "      <td>0</td>\n",
       "      <td>1846</td>\n",
       "      <td>54</td>\n",
       "      <td>2</td>\n",
       "      <td>0</td>\n",
       "      <td>F</td>\n",
       "      <td>сотрудник</td>\n",
       "      <td>0</td>\n",
       "      <td>130458</td>\n",
       "      <td>приобретение автомобиля</td>\n",
       "      <td>C</td>\n",
       "    </tr>\n",
       "    <tr>\n",
       "      <th>14</th>\n",
       "      <td>0</td>\n",
       "      <td>1844</td>\n",
       "      <td>56</td>\n",
       "      <td>0</td>\n",
       "      <td>1</td>\n",
       "      <td>F</td>\n",
       "      <td>компаньон</td>\n",
       "      <td>1</td>\n",
       "      <td>165127</td>\n",
       "      <td>покупка жилой недвижимости</td>\n",
       "      <td>C</td>\n",
       "    </tr>\n",
       "  </tbody>\n",
       "</table>\n",
       "</div>"
      ],
      "text/plain": [
       "    children  days_employed  dob_years  education_id  family_status_id gender  \\\n",
       "0          1           8437         42             0                 0      F   \n",
       "1          1           4024         36             1                 0      F   \n",
       "2          0           5623         33             1                 0      M   \n",
       "3          3           4124         32             1                 0      M   \n",
       "4          0         340266         53             1                 1      F   \n",
       "5          0            926         27             0                 1      M   \n",
       "6          0           2879         43             0                 0      F   \n",
       "7          0            152         50             1                 0      M   \n",
       "8          2           6929         35             0                 1      F   \n",
       "9          0           2188         41             1                 0      M   \n",
       "10         2           4171         36             0                 0      M   \n",
       "11         0            792         40             1                 0      F   \n",
       "12         0           1203         65             1                 1      M   \n",
       "13         0           1846         54             2                 0      F   \n",
       "14         0           1844         56             0                 1      F   \n",
       "\n",
       "   income_type  debt  total_income                            purpose  \\\n",
       "0    сотрудник     0        253875                      покупка жилья   \n",
       "1    сотрудник     0        112080            приобретение автомобиля   \n",
       "2    сотрудник     0        145885                      покупка жилья   \n",
       "3    сотрудник     0        267628         дополнительное образование   \n",
       "4    пенсионер     0        158616                    сыграть свадьбу   \n",
       "5    компаньон     0        255763                      покупка жилья   \n",
       "6    компаньон     0        240525                  операции с жильем   \n",
       "7    сотрудник     0        135823                        образование   \n",
       "8    сотрудник     0         95856              на проведение свадьбы   \n",
       "9    сотрудник     0        144425            покупка жилья для семьи   \n",
       "10   компаньон     0        113943               покупка недвижимости   \n",
       "11   сотрудник     0         77069  покупка коммерческой недвижимости   \n",
       "12   пенсионер     0        145017                    сыграть свадьбу   \n",
       "13   сотрудник     0        130458            приобретение автомобиля   \n",
       "14   компаньон     1        165127         покупка жилой недвижимости   \n",
       "\n",
       "   total_income_category  \n",
       "0                      B  \n",
       "1                      C  \n",
       "2                      C  \n",
       "3                      B  \n",
       "4                      C  \n",
       "5                      B  \n",
       "6                      B  \n",
       "7                      C  \n",
       "8                      C  \n",
       "9                      C  \n",
       "10                     C  \n",
       "11                     C  \n",
       "12                     C  \n",
       "13                     C  \n",
       "14                     C  "
      ]
     },
     "metadata": {},
     "output_type": "display_data"
    }
   ],
   "source": [
    "# Разобьем людей по показателям дохода на пять категорий исходя из требований заказчика\n",
    "def mkic(row):\n",
    "    if row['total_income'] <= 30000:\n",
    "        cat = 'E'\n",
    "    elif row['total_income']>=30001 and row['total_income']<=50000:\n",
    "        cat = 'D'\n",
    "    elif row['total_income']>=50001 and row['total_income']<=200000:\n",
    "        cat = 'C'\n",
    "    elif row['total_income']>=200001 and row['total_income']<=1000000:\n",
    "        cat = 'B'\n",
    "    elif row['total_income']>=1000001:\n",
    "        cat = 'A'\n",
    "    return cat\n",
    "data['total_income_category'] = data.apply(mkic, axis=1)\n",
    "display(data.head(15))"
   ]
  },
  {
   "cell_type": "markdown",
   "metadata": {},
   "source": [
    "### Шаг 2.7. Категоризация целей кредита."
   ]
  },
  {
   "cell_type": "code",
   "execution_count": 18,
   "metadata": {},
   "outputs": [],
   "source": [
    "# Избавляюсь от неявных дубликатов в целях кредита\n",
    "data['purpose'].unique()\n",
    "d = {'жиль':'операции с недвижимостью', \n",
    "     'недвижимо':'операции с недвижимостью',\n",
    "     'образов':'получение образования',\n",
    "     'автомоб':'операции с автомобилем',\n",
    "     'свадьб':'проведение свадьбы'}\n",
    "def mkic(row):\n",
    "    for k,v in d.items():\n",
    "        if k in row['purpose']:\n",
    "            return v\n",
    "data['purpose_category'] = data.apply(mkic, axis=1)"
   ]
  },
  {
   "cell_type": "code",
   "execution_count": 19,
   "metadata": {},
   "outputs": [
    {
     "name": "stdout",
     "output_type": "stream",
     "text": [
      "операции с недвижимостью    10767\n",
      "операции с автомобилем       4286\n",
      "получение образования        3996\n",
      "проведение свадьбы           2321\n",
      "Name: purpose_category, dtype: int64\n"
     ]
    },
    {
     "data": {
      "text/html": [
       "<div>\n",
       "<style scoped>\n",
       "    .dataframe tbody tr th:only-of-type {\n",
       "        vertical-align: middle;\n",
       "    }\n",
       "\n",
       "    .dataframe tbody tr th {\n",
       "        vertical-align: top;\n",
       "    }\n",
       "\n",
       "    .dataframe thead th {\n",
       "        text-align: right;\n",
       "    }\n",
       "</style>\n",
       "<table border=\"1\" class=\"dataframe\">\n",
       "  <thead>\n",
       "    <tr style=\"text-align: right;\">\n",
       "      <th></th>\n",
       "      <th>children</th>\n",
       "      <th>days_employed</th>\n",
       "      <th>dob_years</th>\n",
       "      <th>education_id</th>\n",
       "      <th>family_status_id</th>\n",
       "      <th>gender</th>\n",
       "      <th>income_type</th>\n",
       "      <th>debt</th>\n",
       "      <th>total_income</th>\n",
       "      <th>total_income_category</th>\n",
       "      <th>purpose_category</th>\n",
       "    </tr>\n",
       "  </thead>\n",
       "  <tbody>\n",
       "    <tr>\n",
       "      <th>0</th>\n",
       "      <td>1</td>\n",
       "      <td>8437</td>\n",
       "      <td>42</td>\n",
       "      <td>0</td>\n",
       "      <td>0</td>\n",
       "      <td>F</td>\n",
       "      <td>сотрудник</td>\n",
       "      <td>0</td>\n",
       "      <td>253875</td>\n",
       "      <td>B</td>\n",
       "      <td>операции с недвижимостью</td>\n",
       "    </tr>\n",
       "    <tr>\n",
       "      <th>1</th>\n",
       "      <td>1</td>\n",
       "      <td>4024</td>\n",
       "      <td>36</td>\n",
       "      <td>1</td>\n",
       "      <td>0</td>\n",
       "      <td>F</td>\n",
       "      <td>сотрудник</td>\n",
       "      <td>0</td>\n",
       "      <td>112080</td>\n",
       "      <td>C</td>\n",
       "      <td>операции с автомобилем</td>\n",
       "    </tr>\n",
       "    <tr>\n",
       "      <th>2</th>\n",
       "      <td>0</td>\n",
       "      <td>5623</td>\n",
       "      <td>33</td>\n",
       "      <td>1</td>\n",
       "      <td>0</td>\n",
       "      <td>M</td>\n",
       "      <td>сотрудник</td>\n",
       "      <td>0</td>\n",
       "      <td>145885</td>\n",
       "      <td>C</td>\n",
       "      <td>операции с недвижимостью</td>\n",
       "    </tr>\n",
       "    <tr>\n",
       "      <th>3</th>\n",
       "      <td>3</td>\n",
       "      <td>4124</td>\n",
       "      <td>32</td>\n",
       "      <td>1</td>\n",
       "      <td>0</td>\n",
       "      <td>M</td>\n",
       "      <td>сотрудник</td>\n",
       "      <td>0</td>\n",
       "      <td>267628</td>\n",
       "      <td>B</td>\n",
       "      <td>получение образования</td>\n",
       "    </tr>\n",
       "    <tr>\n",
       "      <th>4</th>\n",
       "      <td>0</td>\n",
       "      <td>340266</td>\n",
       "      <td>53</td>\n",
       "      <td>1</td>\n",
       "      <td>1</td>\n",
       "      <td>F</td>\n",
       "      <td>пенсионер</td>\n",
       "      <td>0</td>\n",
       "      <td>158616</td>\n",
       "      <td>C</td>\n",
       "      <td>проведение свадьбы</td>\n",
       "    </tr>\n",
       "  </tbody>\n",
       "</table>\n",
       "</div>"
      ],
      "text/plain": [
       "   children  days_employed  dob_years  education_id  family_status_id gender  \\\n",
       "0         1           8437         42             0                 0      F   \n",
       "1         1           4024         36             1                 0      F   \n",
       "2         0           5623         33             1                 0      M   \n",
       "3         3           4124         32             1                 0      M   \n",
       "4         0         340266         53             1                 1      F   \n",
       "\n",
       "  income_type  debt  total_income total_income_category  \\\n",
       "0   сотрудник     0        253875                     B   \n",
       "1   сотрудник     0        112080                     C   \n",
       "2   сотрудник     0        145885                     C   \n",
       "3   сотрудник     0        267628                     B   \n",
       "4   пенсионер     0        158616                     C   \n",
       "\n",
       "           purpose_category  \n",
       "0  операции с недвижимостью  \n",
       "1    операции с автомобилем  \n",
       "2  операции с недвижимостью  \n",
       "3     получение образования  \n",
       "4        проведение свадьбы  "
      ]
     },
     "metadata": {},
     "output_type": "display_data"
    }
   ],
   "source": [
    "print(data['purpose_category'].value_counts())\n",
    "data = data.drop(columns = 'purpose', axis = 1)\n",
    "display(data.head())"
   ]
  },
  {
   "cell_type": "markdown",
   "metadata": {},
   "source": [
    "\n",
    "### Ответы на вопросы."
   ]
  },
  {
   "cell_type": "markdown",
   "metadata": {},
   "source": [
    "### Вопрос 1:\n",
    "Есть ли зависимость между количеством детей и возвратом кредита в срок?"
   ]
  },
  {
   "cell_type": "code",
   "execution_count": 20,
   "metadata": {},
   "outputs": [
    {
     "data": {
      "text/html": [
       "<div>\n",
       "<style scoped>\n",
       "    .dataframe tbody tr th:only-of-type {\n",
       "        vertical-align: middle;\n",
       "    }\n",
       "\n",
       "    .dataframe tbody tr th {\n",
       "        vertical-align: top;\n",
       "    }\n",
       "\n",
       "    .dataframe thead th {\n",
       "        text-align: right;\n",
       "    }\n",
       "</style>\n",
       "<table border=\"1\" class=\"dataframe\">\n",
       "  <thead>\n",
       "    <tr style=\"text-align: right;\">\n",
       "      <th>debt</th>\n",
       "      <th>Вернули</th>\n",
       "      <th>Не вернули</th>\n",
       "      <th>Процент возврата</th>\n",
       "    </tr>\n",
       "    <tr>\n",
       "      <th>children</th>\n",
       "      <th></th>\n",
       "      <th></th>\n",
       "      <th></th>\n",
       "    </tr>\n",
       "  </thead>\n",
       "  <tbody>\n",
       "    <tr>\n",
       "      <th>0</th>\n",
       "      <td>12980</td>\n",
       "      <td>1058</td>\n",
       "      <td>92.46</td>\n",
       "    </tr>\n",
       "    <tr>\n",
       "      <th>1</th>\n",
       "      <td>4398</td>\n",
       "      <td>442</td>\n",
       "      <td>90.87</td>\n",
       "    </tr>\n",
       "    <tr>\n",
       "      <th>2</th>\n",
       "      <td>1912</td>\n",
       "      <td>202</td>\n",
       "      <td>90.44</td>\n",
       "    </tr>\n",
       "    <tr>\n",
       "      <th>3</th>\n",
       "      <td>301</td>\n",
       "      <td>27</td>\n",
       "      <td>91.77</td>\n",
       "    </tr>\n",
       "    <tr>\n",
       "      <th>4</th>\n",
       "      <td>37</td>\n",
       "      <td>4</td>\n",
       "      <td>90.24</td>\n",
       "    </tr>\n",
       "    <tr>\n",
       "      <th>5</th>\n",
       "      <td>9</td>\n",
       "      <td>0</td>\n",
       "      <td>100.00</td>\n",
       "    </tr>\n",
       "  </tbody>\n",
       "</table>\n",
       "</div>"
      ],
      "text/plain": [
       "debt      Вернули  Не вернули  Процент возврата\n",
       "children                                       \n",
       "0           12980        1058             92.46\n",
       "1            4398         442             90.87\n",
       "2            1912         202             90.44\n",
       "3             301          27             91.77\n",
       "4              37           4             90.24\n",
       "5               9           0            100.00"
      ]
     },
     "metadata": {},
     "output_type": "display_data"
    }
   ],
   "source": [
    "table = pd.pivot_table(data, values='income_type', index=['children'],\n",
    "                    columns='debt', aggfunc='count', fill_value=0)\n",
    "table['Процент возврата'] = round(table[0]/(table[0]+table[1])*100,2)\n",
    "table = table.rename(  columns={  0: 'Вернули', 1:'Не вернули','children':'Количество детей'})\n",
    "display(table.head(10))"
   ]
  },
  {
   "cell_type": "code",
   "execution_count": 21,
   "metadata": {},
   "outputs": [
    {
     "data": {
      "text/html": [
       "<div>\n",
       "<style scoped>\n",
       "    .dataframe tbody tr th:only-of-type {\n",
       "        vertical-align: middle;\n",
       "    }\n",
       "\n",
       "    .dataframe tbody tr th {\n",
       "        vertical-align: top;\n",
       "    }\n",
       "\n",
       "    .dataframe thead th {\n",
       "        text-align: right;\n",
       "    }\n",
       "</style>\n",
       "<table border=\"1\" class=\"dataframe\">\n",
       "  <thead>\n",
       "    <tr style=\"text-align: right;\">\n",
       "      <th>children</th>\n",
       "      <th>0</th>\n",
       "      <th>1</th>\n",
       "      <th>2</th>\n",
       "      <th>3</th>\n",
       "      <th>4</th>\n",
       "      <th>5</th>\n",
       "    </tr>\n",
       "    <tr>\n",
       "      <th>purpose_category</th>\n",
       "      <th></th>\n",
       "      <th></th>\n",
       "      <th></th>\n",
       "      <th></th>\n",
       "      <th></th>\n",
       "      <th></th>\n",
       "    </tr>\n",
       "  </thead>\n",
       "  <tbody>\n",
       "    <tr>\n",
       "      <th>операции с автомобилем</th>\n",
       "      <td>0.085392</td>\n",
       "      <td>0.105481</td>\n",
       "      <td>0.121065</td>\n",
       "      <td>0.083333</td>\n",
       "      <td>0.100000</td>\n",
       "      <td>0</td>\n",
       "    </tr>\n",
       "    <tr>\n",
       "      <th>операции с недвижимостью</th>\n",
       "      <td>0.067263</td>\n",
       "      <td>0.080697</td>\n",
       "      <td>0.084826</td>\n",
       "      <td>0.077844</td>\n",
       "      <td>0.142857</td>\n",
       "      <td>0</td>\n",
       "    </tr>\n",
       "    <tr>\n",
       "      <th>получение образования</th>\n",
       "      <td>0.087139</td>\n",
       "      <td>0.102857</td>\n",
       "      <td>0.112981</td>\n",
       "      <td>0.057971</td>\n",
       "      <td>0.000000</td>\n",
       "      <td>0</td>\n",
       "    </tr>\n",
       "    <tr>\n",
       "      <th>проведение свадьбы</th>\n",
       "      <td>0.073905</td>\n",
       "      <td>0.095865</td>\n",
       "      <td>0.066964</td>\n",
       "      <td>0.156250</td>\n",
       "      <td>0.000000</td>\n",
       "      <td>0</td>\n",
       "    </tr>\n",
       "  </tbody>\n",
       "</table>\n",
       "</div>"
      ],
      "text/plain": [
       "children                         0         1         2         3         4  5\n",
       "purpose_category                                                             \n",
       "операции с автомобилем    0.085392  0.105481  0.121065  0.083333  0.100000  0\n",
       "операции с недвижимостью  0.067263  0.080697  0.084826  0.077844  0.142857  0\n",
       "получение образования     0.087139  0.102857  0.112981  0.057971  0.000000  0\n",
       "проведение свадьбы        0.073905  0.095865  0.066964  0.156250  0.000000  0"
      ]
     },
     "metadata": {},
     "output_type": "display_data"
    }
   ],
   "source": [
    "table = pd.pivot_table(data, values='debt', index=['purpose_category'],\n",
    "                    columns='children', aggfunc='mean', fill_value=0)\n",
    "display(table.head(10))"
   ]
  },
  {
   "cell_type": "markdown",
   "metadata": {},
   "source": [
    "##### Вывод 1:\n",
    "Люди с 5 детьми всегда возвращают кредиты, в остальном зависимость между  количеством детей и возвратом кредита в срок не подтвержена. Все категории возвращают кредиты в одних и тех же интервалах. "
   ]
  },
  {
   "cell_type": "markdown",
   "metadata": {},
   "source": [
    "##### Вопрос 2:\n",
    "Есть ли зависимость между семейным положением и возвратом кредита в срок?"
   ]
  },
  {
   "cell_type": "code",
   "execution_count": 22,
   "metadata": {},
   "outputs": [
    {
     "data": {
      "text/html": [
       "<div>\n",
       "<style scoped>\n",
       "    .dataframe tbody tr th:only-of-type {\n",
       "        vertical-align: middle;\n",
       "    }\n",
       "\n",
       "    .dataframe tbody tr th {\n",
       "        vertical-align: top;\n",
       "    }\n",
       "\n",
       "    .dataframe thead th {\n",
       "        text-align: right;\n",
       "    }\n",
       "</style>\n",
       "<table border=\"1\" class=\"dataframe\">\n",
       "  <thead>\n",
       "    <tr style=\"text-align: right;\">\n",
       "      <th></th>\n",
       "      <th>family_status</th>\n",
       "      <th>операции с автомобилем</th>\n",
       "      <th>операции с недвижимостью</th>\n",
       "      <th>получение образования</th>\n",
       "      <th>проведение свадьбы</th>\n",
       "    </tr>\n",
       "  </thead>\n",
       "  <tbody>\n",
       "    <tr>\n",
       "      <th>0</th>\n",
       "      <td>женат / замужем</td>\n",
       "      <td>0.083272</td>\n",
       "      <td>0.069311</td>\n",
       "      <td>0.083527</td>\n",
       "      <td>0.000000</td>\n",
       "    </tr>\n",
       "    <tr>\n",
       "      <th>1</th>\n",
       "      <td>гражданский брак</td>\n",
       "      <td>0.118056</td>\n",
       "      <td>0.092292</td>\n",
       "      <td>0.148883</td>\n",
       "      <td>0.079276</td>\n",
       "    </tr>\n",
       "    <tr>\n",
       "      <th>2</th>\n",
       "      <td>вдовец / вдова</td>\n",
       "      <td>0.087963</td>\n",
       "      <td>0.051756</td>\n",
       "      <td>0.076142</td>\n",
       "      <td>0.000000</td>\n",
       "    </tr>\n",
       "    <tr>\n",
       "      <th>3</th>\n",
       "      <td>в разводе</td>\n",
       "      <td>0.075540</td>\n",
       "      <td>0.070149</td>\n",
       "      <td>0.071730</td>\n",
       "      <td>0.000000</td>\n",
       "    </tr>\n",
       "    <tr>\n",
       "      <th>4</th>\n",
       "      <td>Не женат / не замужем</td>\n",
       "      <td>0.129338</td>\n",
       "      <td>0.081285</td>\n",
       "      <td>0.108202</td>\n",
       "      <td>0.000000</td>\n",
       "    </tr>\n",
       "  </tbody>\n",
       "</table>\n",
       "</div>"
      ],
      "text/plain": [
       "           family_status  операции с автомобилем  операции с недвижимостью  \\\n",
       "0        женат / замужем                0.083272                  0.069311   \n",
       "1       гражданский брак                0.118056                  0.092292   \n",
       "2         вдовец / вдова                0.087963                  0.051756   \n",
       "3              в разводе                0.075540                  0.070149   \n",
       "4  Не женат / не замужем                0.129338                  0.081285   \n",
       "\n",
       "   получение образования  проведение свадьбы  \n",
       "0               0.083527            0.000000  \n",
       "1               0.148883            0.079276  \n",
       "2               0.076142            0.000000  \n",
       "3               0.071730            0.000000  \n",
       "4               0.108202            0.000000  "
      ]
     },
     "metadata": {},
     "output_type": "display_data"
    }
   ],
   "source": [
    "table = pd.pivot_table(data, values='debt', index=['family_status_id'],\n",
    "                    columns='purpose_category', aggfunc='mean', fill_value=0)\n",
    "table = df_fs.merge(table, on='family_status_id', how='left')\n",
    "table = table.drop(columns = ['family_status_id'], axis = 1)\n",
    "display(table.head(10))"
   ]
  },
  {
   "cell_type": "markdown",
   "metadata": {},
   "source": [
    "##### Вывод 2:\n",
    "Зависимость между семейным положением и возвратом кредита в срок не подтверждена. Люди живущие в гражданском браке иногда не возвращают кредит за свадьбу."
   ]
  },
  {
   "cell_type": "markdown",
   "metadata": {},
   "source": [
    "##### Вопрос 3:\n",
    "Есть ли зависимость между уровнем дохода и возвратом кредита в срок?"
   ]
  },
  {
   "cell_type": "code",
   "execution_count": 23,
   "metadata": {},
   "outputs": [
    {
     "data": {
      "text/html": [
       "<div>\n",
       "<style scoped>\n",
       "    .dataframe tbody tr th:only-of-type {\n",
       "        vertical-align: middle;\n",
       "    }\n",
       "\n",
       "    .dataframe tbody tr th {\n",
       "        vertical-align: top;\n",
       "    }\n",
       "\n",
       "    .dataframe thead th {\n",
       "        text-align: right;\n",
       "    }\n",
       "</style>\n",
       "<table border=\"1\" class=\"dataframe\">\n",
       "  <thead>\n",
       "    <tr style=\"text-align: right;\">\n",
       "      <th>purpose_category</th>\n",
       "      <th>операции с автомобилем</th>\n",
       "      <th>операции с недвижимостью</th>\n",
       "      <th>получение образования</th>\n",
       "      <th>проведение свадьбы</th>\n",
       "    </tr>\n",
       "    <tr>\n",
       "      <th>total_income_category</th>\n",
       "      <th></th>\n",
       "      <th></th>\n",
       "      <th></th>\n",
       "      <th></th>\n",
       "    </tr>\n",
       "  </thead>\n",
       "  <tbody>\n",
       "    <tr>\n",
       "      <th>A</th>\n",
       "      <td>0.000000</td>\n",
       "      <td>0.058824</td>\n",
       "      <td>0.250000</td>\n",
       "      <td>0.000000</td>\n",
       "    </tr>\n",
       "    <tr>\n",
       "      <th>B</th>\n",
       "      <td>0.083658</td>\n",
       "      <td>0.066954</td>\n",
       "      <td>0.078652</td>\n",
       "      <td>0.051565</td>\n",
       "    </tr>\n",
       "    <tr>\n",
       "      <th>C</th>\n",
       "      <td>0.095507</td>\n",
       "      <td>0.074707</td>\n",
       "      <td>0.098312</td>\n",
       "      <td>0.088032</td>\n",
       "    </tr>\n",
       "    <tr>\n",
       "      <th>D</th>\n",
       "      <td>0.140845</td>\n",
       "      <td>0.035928</td>\n",
       "      <td>0.026316</td>\n",
       "      <td>0.088235</td>\n",
       "    </tr>\n",
       "    <tr>\n",
       "      <th>E</th>\n",
       "      <td>0.000000</td>\n",
       "      <td>0.181818</td>\n",
       "      <td>0.000000</td>\n",
       "      <td>0.000000</td>\n",
       "    </tr>\n",
       "  </tbody>\n",
       "</table>\n",
       "</div>"
      ],
      "text/plain": [
       "purpose_category       операции с автомобилем  операции с недвижимостью  \\\n",
       "total_income_category                                                     \n",
       "A                                    0.000000                  0.058824   \n",
       "B                                    0.083658                  0.066954   \n",
       "C                                    0.095507                  0.074707   \n",
       "D                                    0.140845                  0.035928   \n",
       "E                                    0.000000                  0.181818   \n",
       "\n",
       "purpose_category       получение образования  проведение свадьбы  \n",
       "total_income_category                                             \n",
       "A                                   0.250000            0.000000  \n",
       "B                                   0.078652            0.051565  \n",
       "C                                   0.098312            0.088032  \n",
       "D                                   0.026316            0.088235  \n",
       "E                                   0.000000            0.000000  "
      ]
     },
     "metadata": {},
     "output_type": "display_data"
    }
   ],
   "source": [
    "table = pd.pivot_table(data, values='debt', index=['total_income_category'],\n",
    "                    columns='purpose_category', aggfunc='mean', fill_value=0)\n",
    "display(table.head(10))"
   ]
  },
  {
   "cell_type": "markdown",
   "metadata": {},
   "source": [
    "##### Вывод 3:\n",
    "Чаще всего возвращают кредит люди с категорией дохода D в 94% случаев, а вот люди с категорией E в 1 из 10 кредитов не возвращают долг. Люди с категории дохода А в 1 из 4 случаев не возращают кредит, если берут его на образование."
   ]
  },
  {
   "cell_type": "markdown",
   "metadata": {},
   "source": [
    "##### Вопрос 4:\n",
    "Как разные цели кредита влияют на его возврат в срок?"
   ]
  },
  {
   "cell_type": "code",
   "execution_count": 24,
   "metadata": {},
   "outputs": [
    {
     "name": "stdout",
     "output_type": "stream",
     "text": [
      "Процент возрата кредита на операции с недвижимостью равен: 92.76\n",
      "Процент возрата кредита на операции с автомобилем равен: 90.67\n",
      "Процент возрата кредита на получение образования равен: 90.74\n",
      "Процент возрата кредита на проведение свадьбы равен: 92.07\n"
     ]
    }
   ],
   "source": [
    "for i in data['purpose_category'].unique():\n",
    "    f1 = data[data['purpose_category']==i]\n",
    "    fd1 = f1[f1['debt']==0]\n",
    "    print('Процент возрата кредита на',i,'равен:',round(fd1['debt'].count()/f1['debt'].count()*100,2))"
   ]
  },
  {
   "cell_type": "code",
   "execution_count": 25,
   "metadata": {},
   "outputs": [
    {
     "data": {
      "text/html": [
       "<div>\n",
       "<style scoped>\n",
       "    .dataframe tbody tr th:only-of-type {\n",
       "        vertical-align: middle;\n",
       "    }\n",
       "\n",
       "    .dataframe tbody tr th {\n",
       "        vertical-align: top;\n",
       "    }\n",
       "\n",
       "    .dataframe thead th {\n",
       "        text-align: right;\n",
       "    }\n",
       "</style>\n",
       "<table border=\"1\" class=\"dataframe\">\n",
       "  <thead>\n",
       "    <tr style=\"text-align: right;\">\n",
       "      <th>debt</th>\n",
       "      <th>Вернули</th>\n",
       "      <th>Не вернули</th>\n",
       "      <th>Процент возврата</th>\n",
       "    </tr>\n",
       "    <tr>\n",
       "      <th>purpose_category</th>\n",
       "      <th></th>\n",
       "      <th></th>\n",
       "      <th></th>\n",
       "    </tr>\n",
       "  </thead>\n",
       "  <tbody>\n",
       "    <tr>\n",
       "      <th>операции с автомобилем</th>\n",
       "      <td>3886</td>\n",
       "      <td>400</td>\n",
       "      <td>90.67</td>\n",
       "    </tr>\n",
       "    <tr>\n",
       "      <th>операции с недвижимостью</th>\n",
       "      <td>9988</td>\n",
       "      <td>779</td>\n",
       "      <td>92.76</td>\n",
       "    </tr>\n",
       "    <tr>\n",
       "      <th>получение образования</th>\n",
       "      <td>3626</td>\n",
       "      <td>370</td>\n",
       "      <td>90.74</td>\n",
       "    </tr>\n",
       "    <tr>\n",
       "      <th>проведение свадьбы</th>\n",
       "      <td>2137</td>\n",
       "      <td>184</td>\n",
       "      <td>92.07</td>\n",
       "    </tr>\n",
       "  </tbody>\n",
       "</table>\n",
       "</div>"
      ],
      "text/plain": [
       "debt                      Вернули  Не вернули  Процент возврата\n",
       "purpose_category                                               \n",
       "операции с автомобилем       3886         400             90.67\n",
       "операции с недвижимостью     9988         779             92.76\n",
       "получение образования        3626         370             90.74\n",
       "проведение свадьбы           2137         184             92.07"
      ]
     },
     "metadata": {},
     "output_type": "display_data"
    }
   ],
   "source": [
    "table = pd.pivot_table(data, values='income_type', index=['purpose_category'],\n",
    "                    columns='debt', aggfunc='count', fill_value=0)\n",
    "table['Процент возврата'] = round(table[0]/(table[0]+table[1])*100,2)\n",
    "table = table.rename(  columns={  0: 'Вернули', 1:'Не вернули','children':'Категория'})\n",
    "display(table.head(10))"
   ]
  },
  {
   "cell_type": "markdown",
   "metadata": {},
   "source": [
    "##### Вывод 4:\n",
    "Зависимость между целью кредита и возвратом кредита в срок не подтверждена."
   ]
  },
  {
   "cell_type": "markdown",
   "metadata": {},
   "source": [
    "## Общий вывод:"
   ]
  },
  {
   "cell_type": "markdown",
   "metadata": {},
   "source": [
    "Явных зависимостей влияющих на возврат кредита в срок не выявлено. В каждой категории присутствует 6-10% людей, которые не возвращают кредит в срок. Исключение составляют люди с 5 детьми, которые всегда возвращают проект в срок."
   ]
  },
  {
   "cell_type": "markdown",
   "metadata": {},
   "source": [
    "### P.S. Продолжение следует...\n",
    "В будущем прикручу ML в виде классификатора, которая будет определять способность клиентов отдавать кредит"
   ]
  }
 ],
 "metadata": {
  "ExecuteTimeLog": [
   {
    "duration": 539,
    "start_time": "2022-03-21T08:13:29.673Z"
   },
   {
    "duration": 95,
    "start_time": "2022-03-21T08:13:54.776Z"
   },
   {
    "duration": 5,
    "start_time": "2022-03-21T08:18:07.003Z"
   },
   {
    "duration": 4,
    "start_time": "2022-03-21T08:19:45.203Z"
   },
   {
    "duration": 5,
    "start_time": "2022-03-21T08:20:27.994Z"
   },
   {
    "duration": 5,
    "start_time": "2022-03-21T08:22:48.543Z"
   },
   {
    "duration": 5,
    "start_time": "2022-03-21T08:22:56.043Z"
   },
   {
    "duration": 5,
    "start_time": "2022-03-21T08:23:09.296Z"
   },
   {
    "duration": 12,
    "start_time": "2022-03-21T08:23:16.689Z"
   },
   {
    "duration": 19,
    "start_time": "2022-03-21T08:32:25.823Z"
   },
   {
    "duration": 83,
    "start_time": "2022-03-21T08:34:26.638Z"
   },
   {
    "duration": 22,
    "start_time": "2022-03-21T08:34:34.880Z"
   },
   {
    "duration": 5,
    "start_time": "2022-03-21T08:34:53.413Z"
   },
   {
    "duration": 6,
    "start_time": "2022-03-21T08:35:03.431Z"
   },
   {
    "duration": 5,
    "start_time": "2022-03-21T08:36:50.724Z"
   },
   {
    "duration": 5,
    "start_time": "2022-03-21T08:37:43.649Z"
   },
   {
    "duration": 9,
    "start_time": "2022-03-21T08:39:56.116Z"
   },
   {
    "duration": 17,
    "start_time": "2022-03-21T08:50:11.973Z"
   },
   {
    "duration": 27,
    "start_time": "2022-03-21T08:50:33.416Z"
   },
   {
    "duration": 21,
    "start_time": "2022-03-21T08:51:31.837Z"
   },
   {
    "duration": 6,
    "start_time": "2022-03-21T08:51:50.780Z"
   },
   {
    "duration": 4,
    "start_time": "2022-03-21T08:52:52.836Z"
   },
   {
    "duration": 22,
    "start_time": "2022-03-21T09:02:45.869Z"
   },
   {
    "duration": 9,
    "start_time": "2022-03-21T09:07:41.611Z"
   },
   {
    "duration": 6,
    "start_time": "2022-03-21T12:39:55.894Z"
   },
   {
    "duration": 5,
    "start_time": "2022-03-21T12:40:25.845Z"
   },
   {
    "duration": 6,
    "start_time": "2022-03-21T12:40:46.271Z"
   },
   {
    "duration": 113,
    "start_time": "2022-03-21T12:41:05.589Z"
   },
   {
    "duration": 10,
    "start_time": "2022-03-21T12:41:08.583Z"
   },
   {
    "duration": 6,
    "start_time": "2022-03-21T12:41:13.668Z"
   },
   {
    "duration": 8,
    "start_time": "2022-03-21T12:41:39.804Z"
   },
   {
    "duration": 8,
    "start_time": "2022-03-21T12:44:08.628Z"
   },
   {
    "duration": 21,
    "start_time": "2022-03-21T12:45:28.541Z"
   },
   {
    "duration": 55,
    "start_time": "2022-03-21T12:45:59.596Z"
   },
   {
    "duration": 54,
    "start_time": "2022-03-21T12:46:48.275Z"
   },
   {
    "duration": 53,
    "start_time": "2022-03-21T13:17:53.991Z"
   },
   {
    "duration": 19,
    "start_time": "2022-03-21T13:21:05.053Z"
   },
   {
    "duration": 7,
    "start_time": "2022-03-21T13:22:01.783Z"
   },
   {
    "duration": 8,
    "start_time": "2022-03-21T13:22:40.427Z"
   },
   {
    "duration": 7,
    "start_time": "2022-03-21T13:22:57.243Z"
   },
   {
    "duration": 23,
    "start_time": "2022-03-21T13:40:54.141Z"
   },
   {
    "duration": 22,
    "start_time": "2022-03-21T13:54:20.264Z"
   },
   {
    "duration": 20,
    "start_time": "2022-03-21T13:55:49.177Z"
   },
   {
    "duration": 453,
    "start_time": "2022-03-21T13:56:07.726Z"
   },
   {
    "duration": 12,
    "start_time": "2022-03-21T13:56:44.097Z"
   },
   {
    "duration": 455,
    "start_time": "2022-03-21T13:56:47.569Z"
   },
   {
    "duration": 7,
    "start_time": "2022-03-21T14:11:52.776Z"
   },
   {
    "duration": 6,
    "start_time": "2022-03-21T15:30:13.094Z"
   },
   {
    "duration": 4,
    "start_time": "2022-03-21T15:30:42.278Z"
   },
   {
    "duration": 18,
    "start_time": "2022-03-21T15:32:23.877Z"
   },
   {
    "duration": 289,
    "start_time": "2022-03-21T15:32:33.802Z"
   },
   {
    "duration": 6,
    "start_time": "2022-03-21T15:32:52.758Z"
   },
   {
    "duration": 7,
    "start_time": "2022-03-21T15:33:04.350Z"
   },
   {
    "duration": 11,
    "start_time": "2022-03-21T15:33:17.075Z"
   },
   {
    "duration": 7,
    "start_time": "2022-03-21T15:33:30.646Z"
   },
   {
    "duration": 20,
    "start_time": "2022-03-21T15:38:28.149Z"
   },
   {
    "duration": 10,
    "start_time": "2022-03-21T15:39:14.807Z"
   },
   {
    "duration": 16,
    "start_time": "2022-03-21T15:39:22.342Z"
   },
   {
    "duration": 22,
    "start_time": "2022-03-21T15:39:42.798Z"
   },
   {
    "duration": 19,
    "start_time": "2022-03-21T15:39:57.372Z"
   },
   {
    "duration": 19,
    "start_time": "2022-03-21T15:49:29.503Z"
   },
   {
    "duration": 8,
    "start_time": "2022-03-21T15:49:56.069Z"
   },
   {
    "duration": 9,
    "start_time": "2022-03-21T15:52:57.752Z"
   },
   {
    "duration": 9,
    "start_time": "2022-03-21T15:53:05.851Z"
   },
   {
    "duration": 8,
    "start_time": "2022-03-21T15:57:12.866Z"
   },
   {
    "duration": 174,
    "start_time": "2022-03-21T15:57:35.242Z"
   },
   {
    "duration": 8,
    "start_time": "2022-03-21T15:57:42.328Z"
   },
   {
    "duration": 12,
    "start_time": "2022-03-21T15:58:12.015Z"
   },
   {
    "duration": 15,
    "start_time": "2022-03-21T15:59:04.714Z"
   },
   {
    "duration": 4,
    "start_time": "2022-03-21T16:19:59.032Z"
   },
   {
    "duration": 11,
    "start_time": "2022-03-21T16:24:10.576Z"
   },
   {
    "duration": 11,
    "start_time": "2022-03-21T16:24:49.584Z"
   },
   {
    "duration": 12,
    "start_time": "2022-03-21T16:24:58.325Z"
   },
   {
    "duration": 16,
    "start_time": "2022-03-21T16:26:14.057Z"
   },
   {
    "duration": 26,
    "start_time": "2022-03-21T16:31:12.155Z"
   },
   {
    "duration": 26,
    "start_time": "2022-03-21T16:31:31.501Z"
   },
   {
    "duration": 26,
    "start_time": "2022-03-21T16:33:08.286Z"
   },
   {
    "duration": 31,
    "start_time": "2022-03-21T16:33:14.275Z"
   },
   {
    "duration": 27,
    "start_time": "2022-03-21T16:33:41.724Z"
   },
   {
    "duration": 5615,
    "start_time": "2022-03-22T09:05:00.858Z"
   },
   {
    "duration": 5760,
    "start_time": "2022-03-22T09:18:05.537Z"
   },
   {
    "duration": 5240,
    "start_time": "2022-03-22T09:18:36.393Z"
   },
   {
    "duration": 4562,
    "start_time": "2022-03-22T09:19:39.809Z"
   },
   {
    "duration": 7113,
    "start_time": "2022-03-22T09:20:58.867Z"
   },
   {
    "duration": 5,
    "start_time": "2022-03-22T10:27:07.524Z"
   },
   {
    "duration": 12,
    "start_time": "2022-03-22T10:27:20.873Z"
   },
   {
    "duration": 91,
    "start_time": "2022-03-22T10:27:32.287Z"
   },
   {
    "duration": 9,
    "start_time": "2022-03-22T10:27:35.701Z"
   },
   {
    "duration": 4,
    "start_time": "2022-03-22T10:27:38.765Z"
   },
   {
    "duration": 7,
    "start_time": "2022-03-22T10:27:42.070Z"
   },
   {
    "duration": 60,
    "start_time": "2022-03-22T10:27:45.908Z"
   },
   {
    "duration": 26,
    "start_time": "2022-03-22T10:27:48.755Z"
   },
   {
    "duration": 10,
    "start_time": "2022-03-22T10:27:51.965Z"
   },
   {
    "duration": 439,
    "start_time": "2022-03-22T10:27:54.511Z"
   },
   {
    "duration": 244,
    "start_time": "2022-03-22T10:27:59.501Z"
   },
   {
    "duration": 17,
    "start_time": "2022-03-22T10:28:03.206Z"
   },
   {
    "duration": 15,
    "start_time": "2022-03-22T10:28:07.117Z"
   },
   {
    "duration": 5,
    "start_time": "2022-03-22T10:28:17.997Z"
   },
   {
    "duration": 101,
    "start_time": "2022-03-22T10:29:15.022Z"
   },
   {
    "duration": 9,
    "start_time": "2022-03-22T10:29:19.021Z"
   },
   {
    "duration": 4,
    "start_time": "2022-03-22T10:29:21.787Z"
   },
   {
    "duration": 7,
    "start_time": "2022-03-22T10:29:22.429Z"
   },
   {
    "duration": 41,
    "start_time": "2022-03-22T10:29:23.295Z"
   },
   {
    "duration": 19,
    "start_time": "2022-03-22T10:29:23.706Z"
   },
   {
    "duration": 4588,
    "start_time": "2022-03-22T10:29:26.260Z"
   },
   {
    "duration": 10,
    "start_time": "2022-03-22T10:30:06.630Z"
   },
   {
    "duration": 21,
    "start_time": "2022-03-22T12:23:52.869Z"
   },
   {
    "duration": 6,
    "start_time": "2022-03-22T12:24:05.499Z"
   },
   {
    "duration": 400,
    "start_time": "2022-03-22T12:24:07.533Z"
   },
   {
    "duration": 243,
    "start_time": "2022-03-22T12:24:12.354Z"
   },
   {
    "duration": 22,
    "start_time": "2022-03-22T12:24:13.635Z"
   },
   {
    "duration": 14,
    "start_time": "2022-03-22T12:24:17.555Z"
   },
   {
    "duration": 6,
    "start_time": "2022-03-22T12:24:23.235Z"
   },
   {
    "duration": 5,
    "start_time": "2022-03-22T12:24:44.228Z"
   },
   {
    "duration": 9,
    "start_time": "2022-03-22T12:25:08.652Z"
   },
   {
    "duration": 6,
    "start_time": "2022-03-22T12:25:57.021Z"
   },
   {
    "duration": 218,
    "start_time": "2022-03-22T12:26:58.387Z"
   },
   {
    "duration": 5,
    "start_time": "2022-03-22T12:28:01.987Z"
   },
   {
    "duration": 7,
    "start_time": "2022-03-22T12:28:11.291Z"
   },
   {
    "duration": 5292,
    "start_time": "2022-03-22T12:28:23.433Z"
   },
   {
    "duration": 5468,
    "start_time": "2022-03-22T12:30:04.043Z"
   },
   {
    "duration": 4703,
    "start_time": "2022-03-22T12:30:32.786Z"
   },
   {
    "duration": 23,
    "start_time": "2022-03-22T12:31:39.948Z"
   },
   {
    "duration": 32,
    "start_time": "2022-03-22T12:32:02.490Z"
   },
   {
    "duration": 33,
    "start_time": "2022-03-22T12:32:29.986Z"
   },
   {
    "duration": 26,
    "start_time": "2022-03-22T12:32:38.489Z"
   },
   {
    "duration": 35,
    "start_time": "2022-03-22T12:32:46.000Z"
   },
   {
    "duration": 21,
    "start_time": "2022-03-22T12:32:58.978Z"
   },
   {
    "duration": 24,
    "start_time": "2022-03-22T12:34:32.425Z"
   },
   {
    "duration": 25554,
    "start_time": "2022-03-22T12:35:09.292Z"
   },
   {
    "duration": 10130,
    "start_time": "2022-03-22T12:36:07.451Z"
   },
   {
    "duration": 386,
    "start_time": "2022-03-22T12:37:07.251Z"
   },
   {
    "duration": 15,
    "start_time": "2022-03-22T12:43:10.250Z"
   },
   {
    "duration": 22,
    "start_time": "2022-03-22T12:43:37.062Z"
   },
   {
    "duration": 4172,
    "start_time": "2022-03-22T12:43:55.184Z"
   },
   {
    "duration": 4867,
    "start_time": "2022-03-22T12:44:03.466Z"
   },
   {
    "duration": 22,
    "start_time": "2022-03-22T12:45:09.706Z"
   },
   {
    "duration": 25,
    "start_time": "2022-03-22T12:51:16.792Z"
   },
   {
    "duration": 28,
    "start_time": "2022-03-22T12:58:32.272Z"
   },
   {
    "duration": 23,
    "start_time": "2022-03-22T13:00:37.896Z"
   },
   {
    "duration": 24,
    "start_time": "2022-03-22T13:00:59.759Z"
   },
   {
    "duration": 29,
    "start_time": "2022-03-22T13:01:27.534Z"
   },
   {
    "duration": 25,
    "start_time": "2022-03-22T13:01:50.999Z"
   },
   {
    "duration": 9,
    "start_time": "2022-03-23T07:13:29.707Z"
   },
   {
    "duration": 6,
    "start_time": "2022-03-23T07:14:08.200Z"
   },
   {
    "duration": 7,
    "start_time": "2022-03-23T07:14:41.348Z"
   },
   {
    "duration": 2690,
    "start_time": "2022-03-23T07:14:48.314Z"
   },
   {
    "duration": 0,
    "start_time": "2022-03-23T07:14:51.007Z"
   },
   {
    "duration": 3033,
    "start_time": "2022-03-23T07:15:02.643Z"
   },
   {
    "duration": 97,
    "start_time": "2022-03-23T07:15:19.946Z"
   },
   {
    "duration": 9,
    "start_time": "2022-03-23T07:15:21.610Z"
   },
   {
    "duration": 4,
    "start_time": "2022-03-23T07:15:25.194Z"
   },
   {
    "duration": 5,
    "start_time": "2022-03-23T07:15:29.097Z"
   },
   {
    "duration": 8,
    "start_time": "2022-03-23T07:15:33.327Z"
   },
   {
    "duration": 40,
    "start_time": "2022-03-23T07:15:37.208Z"
   },
   {
    "duration": 18,
    "start_time": "2022-03-23T07:15:40.724Z"
   },
   {
    "duration": 14,
    "start_time": "2022-03-23T07:16:28.717Z"
   },
   {
    "duration": 13,
    "start_time": "2022-03-23T07:18:15.982Z"
   },
   {
    "duration": 6,
    "start_time": "2022-03-23T07:18:18.374Z"
   },
   {
    "duration": 483,
    "start_time": "2022-03-23T07:18:30.080Z"
   },
   {
    "duration": 5,
    "start_time": "2022-03-23T07:18:46.553Z"
   },
   {
    "duration": 248,
    "start_time": "2022-03-23T07:19:10.779Z"
   },
   {
    "duration": 18,
    "start_time": "2022-03-23T07:19:25.349Z"
   },
   {
    "duration": 16,
    "start_time": "2022-03-23T07:19:50.731Z"
   },
   {
    "duration": 9,
    "start_time": "2022-03-23T07:22:42.418Z"
   },
   {
    "duration": 25,
    "start_time": "2022-03-23T07:23:02.731Z"
   },
   {
    "duration": 25,
    "start_time": "2022-03-23T07:31:15.546Z"
   },
   {
    "duration": 24,
    "start_time": "2022-03-23T07:32:36.748Z"
   },
   {
    "duration": 26,
    "start_time": "2022-03-23T07:38:48.177Z"
   },
   {
    "duration": 27,
    "start_time": "2022-03-23T07:39:44.063Z"
   },
   {
    "duration": 593,
    "start_time": "2022-03-23T10:52:16.389Z"
   },
   {
    "duration": 12,
    "start_time": "2022-03-23T10:52:21.659Z"
   },
   {
    "duration": 12,
    "start_time": "2022-03-23T10:52:26.851Z"
   },
   {
    "duration": 10,
    "start_time": "2022-03-23T11:01:07.873Z"
   },
   {
    "duration": 110,
    "start_time": "2022-03-23T11:03:26.827Z"
   },
   {
    "duration": 10,
    "start_time": "2022-03-23T11:03:38.004Z"
   },
   {
    "duration": 12,
    "start_time": "2022-03-23T11:03:47.310Z"
   },
   {
    "duration": 91,
    "start_time": "2022-03-23T11:54:01.111Z"
   },
   {
    "duration": 111,
    "start_time": "2022-03-23T11:54:12.979Z"
   },
   {
    "duration": 146,
    "start_time": "2022-03-23T11:54:37.131Z"
   },
   {
    "duration": 98,
    "start_time": "2022-03-23T12:09:28.065Z"
   },
   {
    "duration": 540,
    "start_time": "2022-03-24T08:47:21.342Z"
   },
   {
    "duration": 7,
    "start_time": "2022-03-24T08:47:35.416Z"
   },
   {
    "duration": 119,
    "start_time": "2022-03-24T08:49:14.307Z"
   },
   {
    "duration": 7,
    "start_time": "2022-03-24T08:49:19.561Z"
   },
   {
    "duration": 27,
    "start_time": "2022-03-24T08:49:45.913Z"
   },
   {
    "duration": 4,
    "start_time": "2022-03-24T08:50:06.288Z"
   },
   {
    "duration": 6,
    "start_time": "2022-03-24T08:50:10.439Z"
   },
   {
    "duration": 29,
    "start_time": "2022-03-24T08:50:22.559Z"
   },
   {
    "duration": 4,
    "start_time": "2022-03-24T08:51:15.569Z"
   },
   {
    "duration": 34,
    "start_time": "2022-03-24T08:51:16.886Z"
   },
   {
    "duration": 15,
    "start_time": "2022-03-24T08:51:19.750Z"
   },
   {
    "duration": 5,
    "start_time": "2022-03-24T08:53:07.270Z"
   },
   {
    "duration": 194,
    "start_time": "2022-03-24T09:02:47.686Z"
   },
   {
    "duration": 4,
    "start_time": "2022-03-24T13:57:48.174Z"
   },
   {
    "duration": 22,
    "start_time": "2022-03-24T13:58:17.710Z"
   },
   {
    "duration": 90,
    "start_time": "2022-03-24T13:58:21.535Z"
   },
   {
    "duration": 14,
    "start_time": "2022-03-24T13:58:37.872Z"
   },
   {
    "duration": 5,
    "start_time": "2022-03-24T13:58:46.818Z"
   },
   {
    "duration": 442,
    "start_time": "2022-03-24T13:59:01.493Z"
   },
   {
    "duration": 129,
    "start_time": "2022-03-24T13:59:03.403Z"
   },
   {
    "duration": 20,
    "start_time": "2022-03-24T13:59:05.413Z"
   },
   {
    "duration": 10,
    "start_time": "2022-03-24T13:59:09.106Z"
   },
   {
    "duration": 4,
    "start_time": "2022-03-24T13:59:13.287Z"
   },
   {
    "duration": 6,
    "start_time": "2022-03-24T13:59:14.651Z"
   },
   {
    "duration": 11,
    "start_time": "2022-03-24T14:00:48.978Z"
   },
   {
    "duration": 3,
    "start_time": "2022-03-24T14:00:55.754Z"
   },
   {
    "duration": 6,
    "start_time": "2022-03-24T14:00:57.574Z"
   },
   {
    "duration": 38,
    "start_time": "2022-03-24T14:00:58.498Z"
   },
   {
    "duration": 32,
    "start_time": "2022-03-24T14:01:01.436Z"
   },
   {
    "duration": 66,
    "start_time": "2022-03-24T14:03:43.319Z"
   },
   {
    "duration": 6,
    "start_time": "2022-03-24T14:25:10.299Z"
   },
   {
    "duration": 18,
    "start_time": "2022-03-24T14:26:18.050Z"
   },
   {
    "duration": 5,
    "start_time": "2022-03-24T14:27:30.637Z"
   },
   {
    "duration": 205,
    "start_time": "2022-03-24T14:27:40.876Z"
   },
   {
    "duration": 5,
    "start_time": "2022-03-24T14:27:45.061Z"
   },
   {
    "duration": 7,
    "start_time": "2022-03-24T14:29:18.030Z"
   },
   {
    "duration": 6,
    "start_time": "2022-03-24T14:29:43.216Z"
   },
   {
    "duration": 33,
    "start_time": "2022-03-24T14:29:45.809Z"
   },
   {
    "duration": 17,
    "start_time": "2022-03-24T14:32:39.509Z"
   },
   {
    "duration": 6,
    "start_time": "2022-03-24T14:32:49.108Z"
   },
   {
    "duration": 5,
    "start_time": "2022-03-24T14:33:06.240Z"
   },
   {
    "duration": 5,
    "start_time": "2022-03-24T14:34:07.261Z"
   },
   {
    "duration": 4,
    "start_time": "2022-03-24T14:34:15.516Z"
   },
   {
    "duration": 6,
    "start_time": "2022-03-24T14:34:24.165Z"
   },
   {
    "duration": 5,
    "start_time": "2022-03-24T14:35:01.421Z"
   },
   {
    "duration": 16,
    "start_time": "2022-03-24T15:04:21.428Z"
   },
   {
    "duration": 6,
    "start_time": "2022-03-24T15:04:23.227Z"
   },
   {
    "duration": 8,
    "start_time": "2022-03-24T15:04:44.282Z"
   },
   {
    "duration": 7,
    "start_time": "2022-03-24T15:04:50.821Z"
   },
   {
    "duration": 9,
    "start_time": "2022-03-24T15:05:07.740Z"
   },
   {
    "duration": 623,
    "start_time": "2022-03-24T15:06:54.532Z"
   },
   {
    "duration": 352,
    "start_time": "2022-03-24T15:08:39.091Z"
   },
   {
    "duration": 221,
    "start_time": "2022-03-24T15:11:59.819Z"
   },
   {
    "duration": 872,
    "start_time": "2022-03-24T15:12:55.730Z"
   },
   {
    "duration": 856,
    "start_time": "2022-03-24T15:13:08.051Z"
   },
   {
    "duration": 225,
    "start_time": "2022-03-24T15:13:21.578Z"
   },
   {
    "duration": 15,
    "start_time": "2022-03-24T15:14:36.370Z"
   },
   {
    "duration": 20,
    "start_time": "2022-03-24T15:15:09.745Z"
   },
   {
    "duration": 5,
    "start_time": "2022-03-24T15:41:04.022Z"
   },
   {
    "duration": 15,
    "start_time": "2022-03-24T15:41:11.407Z"
   },
   {
    "duration": 7,
    "start_time": "2022-03-24T15:41:46.990Z"
   },
   {
    "duration": 11,
    "start_time": "2022-03-24T15:45:06.937Z"
   },
   {
    "duration": 3,
    "start_time": "2022-03-24T15:45:47.825Z"
   },
   {
    "duration": 12,
    "start_time": "2022-03-24T15:45:56.210Z"
   },
   {
    "duration": 18,
    "start_time": "2022-03-24T15:46:06.853Z"
   },
   {
    "duration": 13,
    "start_time": "2022-03-24T15:46:37.733Z"
   },
   {
    "duration": 10,
    "start_time": "2022-03-24T15:50:49.021Z"
   },
   {
    "duration": 9,
    "start_time": "2022-03-24T15:57:27.870Z"
   },
   {
    "duration": 10,
    "start_time": "2022-03-24T15:59:03.190Z"
   },
   {
    "duration": 40,
    "start_time": "2022-03-24T15:59:10.926Z"
   },
   {
    "duration": 9,
    "start_time": "2022-03-24T16:00:05.981Z"
   },
   {
    "duration": 25,
    "start_time": "2022-03-24T16:00:11.228Z"
   },
   {
    "duration": 2389,
    "start_time": "2022-03-24T16:02:33.309Z"
   },
   {
    "duration": 19,
    "start_time": "2022-03-24T16:02:54.669Z"
   },
   {
    "duration": 20,
    "start_time": "2022-03-24T16:03:18.213Z"
   },
   {
    "duration": 21,
    "start_time": "2022-03-24T16:04:53.731Z"
   },
   {
    "duration": 20,
    "start_time": "2022-03-24T16:05:31.749Z"
   },
   {
    "duration": 20,
    "start_time": "2022-03-24T16:05:43.717Z"
   },
   {
    "duration": 17,
    "start_time": "2022-03-24T16:09:22.156Z"
   },
   {
    "duration": 13,
    "start_time": "2022-03-24T16:20:14.709Z"
   },
   {
    "duration": 11,
    "start_time": "2022-03-24T16:20:31.866Z"
   },
   {
    "duration": 26,
    "start_time": "2022-03-25T06:50:31.683Z"
   },
   {
    "duration": 23,
    "start_time": "2022-03-25T06:50:58.720Z"
   },
   {
    "duration": 3276,
    "start_time": "2022-03-25T06:51:58.974Z"
   },
   {
    "duration": 3152,
    "start_time": "2022-03-25T06:52:15.576Z"
   },
   {
    "duration": 3224,
    "start_time": "2022-03-25T06:52:47.991Z"
   },
   {
    "duration": 24,
    "start_time": "2022-03-25T06:53:00.879Z"
   },
   {
    "duration": 3138,
    "start_time": "2022-03-25T06:53:21.662Z"
   },
   {
    "duration": 25,
    "start_time": "2022-03-25T06:53:31.792Z"
   },
   {
    "duration": 20,
    "start_time": "2022-03-25T06:55:47.812Z"
   },
   {
    "duration": 21,
    "start_time": "2022-03-25T06:56:51.989Z"
   },
   {
    "duration": 18,
    "start_time": "2022-03-25T07:03:35.576Z"
   },
   {
    "duration": 19,
    "start_time": "2022-03-25T07:03:44.630Z"
   },
   {
    "duration": 26,
    "start_time": "2022-03-25T07:04:06.319Z"
   },
   {
    "duration": 21,
    "start_time": "2022-03-25T07:05:03.319Z"
   },
   {
    "duration": 23,
    "start_time": "2022-03-25T07:08:22.839Z"
   },
   {
    "duration": 27,
    "start_time": "2022-03-25T07:09:49.132Z"
   },
   {
    "duration": 19,
    "start_time": "2022-03-25T07:10:10.386Z"
   },
   {
    "duration": 19,
    "start_time": "2022-03-25T07:10:40.919Z"
   },
   {
    "duration": 29,
    "start_time": "2022-03-25T07:10:47.668Z"
   },
   {
    "duration": 25,
    "start_time": "2022-03-25T07:11:48.918Z"
   },
   {
    "duration": 3338,
    "start_time": "2022-03-25T07:15:43.053Z"
   },
   {
    "duration": 20,
    "start_time": "2022-03-25T07:15:55.949Z"
   },
   {
    "duration": 2,
    "start_time": "2022-03-25T07:16:44.277Z"
   },
   {
    "duration": 92,
    "start_time": "2022-03-25T07:16:47.349Z"
   },
   {
    "duration": 15,
    "start_time": "2022-03-25T07:16:52.092Z"
   },
   {
    "duration": 7,
    "start_time": "2022-03-25T07:17:07.710Z"
   },
   {
    "duration": 4,
    "start_time": "2022-03-25T07:17:40.350Z"
   },
   {
    "duration": 6,
    "start_time": "2022-03-25T07:17:40.837Z"
   },
   {
    "duration": 7,
    "start_time": "2022-03-25T07:17:42.717Z"
   },
   {
    "duration": 29,
    "start_time": "2022-03-25T07:17:43.565Z"
   },
   {
    "duration": 5,
    "start_time": "2022-03-25T07:17:50.574Z"
   },
   {
    "duration": 364,
    "start_time": "2022-03-25T07:18:03.428Z"
   },
   {
    "duration": 80,
    "start_time": "2022-03-25T07:18:04.286Z"
   },
   {
    "duration": 16,
    "start_time": "2022-03-25T07:18:05.198Z"
   },
   {
    "duration": 9,
    "start_time": "2022-03-25T07:18:06.725Z"
   },
   {
    "duration": 4,
    "start_time": "2022-03-25T07:18:08.613Z"
   },
   {
    "duration": 8,
    "start_time": "2022-03-25T07:18:09.061Z"
   },
   {
    "duration": 9,
    "start_time": "2022-03-25T07:18:09.933Z"
   },
   {
    "duration": 46,
    "start_time": "2022-03-25T07:18:14.030Z"
   },
   {
    "duration": 5,
    "start_time": "2022-03-25T07:18:17.030Z"
   },
   {
    "duration": 46,
    "start_time": "2022-03-25T07:18:20.495Z"
   },
   {
    "duration": 12,
    "start_time": "2022-03-25T07:18:28.916Z"
   },
   {
    "duration": 4,
    "start_time": "2022-03-25T07:18:30.039Z"
   },
   {
    "duration": 6,
    "start_time": "2022-03-25T07:18:30.855Z"
   },
   {
    "duration": 6,
    "start_time": "2022-03-25T07:18:31.637Z"
   },
   {
    "duration": 410,
    "start_time": "2022-03-25T07:18:35.630Z"
   },
   {
    "duration": 406,
    "start_time": "2022-03-25T07:19:04.142Z"
   },
   {
    "duration": 255,
    "start_time": "2022-03-25T07:19:08.934Z"
   },
   {
    "duration": 14,
    "start_time": "2022-03-25T07:19:12.878Z"
   },
   {
    "duration": 34,
    "start_time": "2022-03-25T07:19:18.989Z"
   },
   {
    "duration": 22,
    "start_time": "2022-03-25T07:19:26.102Z"
   },
   {
    "duration": 21,
    "start_time": "2022-03-25T07:19:29.520Z"
   },
   {
    "duration": 22,
    "start_time": "2022-03-25T07:19:32.741Z"
   },
   {
    "duration": 22,
    "start_time": "2022-03-25T07:19:33.318Z"
   },
   {
    "duration": 414,
    "start_time": "2022-03-27T08:28:30.495Z"
   },
   {
    "duration": 83,
    "start_time": "2022-03-27T08:28:30.912Z"
   },
   {
    "duration": 19,
    "start_time": "2022-03-27T08:28:30.997Z"
   },
   {
    "duration": 8,
    "start_time": "2022-03-27T08:28:31.018Z"
   },
   {
    "duration": 4,
    "start_time": "2022-03-27T08:28:31.310Z"
   },
   {
    "duration": 7,
    "start_time": "2022-03-27T08:28:31.370Z"
   },
   {
    "duration": 6,
    "start_time": "2022-03-27T08:28:31.450Z"
   },
   {
    "duration": 27,
    "start_time": "2022-03-27T08:28:31.554Z"
   },
   {
    "duration": 6,
    "start_time": "2022-03-27T08:28:31.798Z"
   },
   {
    "duration": 51,
    "start_time": "2022-03-27T08:28:31.967Z"
   },
   {
    "duration": 13,
    "start_time": "2022-03-27T08:28:32.285Z"
   },
   {
    "duration": 4,
    "start_time": "2022-03-27T08:28:33.206Z"
   },
   {
    "duration": 6,
    "start_time": "2022-03-27T08:28:33.658Z"
   },
   {
    "duration": 6,
    "start_time": "2022-03-27T08:28:34.063Z"
   },
   {
    "duration": 405,
    "start_time": "2022-03-27T08:28:35.433Z"
   },
   {
    "duration": 261,
    "start_time": "2022-03-27T08:28:35.840Z"
   },
   {
    "duration": 17,
    "start_time": "2022-03-27T08:28:36.110Z"
   },
   {
    "duration": 30,
    "start_time": "2022-03-27T08:29:38.235Z"
   },
   {
    "duration": 20,
    "start_time": "2022-03-27T08:29:50.210Z"
   },
   {
    "duration": 18,
    "start_time": "2022-03-27T08:30:12.673Z"
   },
   {
    "duration": 29,
    "start_time": "2022-03-27T08:30:36.484Z"
   },
   {
    "duration": 23,
    "start_time": "2022-03-27T08:31:01.841Z"
   },
   {
    "duration": 24,
    "start_time": "2022-03-27T08:31:08.299Z"
   },
   {
    "duration": 136,
    "start_time": "2022-03-27T08:32:35.841Z"
   },
   {
    "duration": 25,
    "start_time": "2022-03-27T08:34:31.233Z"
   },
   {
    "duration": 24,
    "start_time": "2022-03-27T08:35:07.073Z"
   },
   {
    "duration": 24,
    "start_time": "2022-03-27T08:37:22.729Z"
   },
   {
    "duration": 15,
    "start_time": "2022-03-27T08:41:46.280Z"
   },
   {
    "duration": 15,
    "start_time": "2022-03-27T08:42:27.711Z"
   }
  ],
  "kernelspec": {
   "display_name": "Python 3",
   "language": "python",
   "name": "python3"
  },
  "language_info": {
   "codemirror_mode": {
    "name": "ipython",
    "version": 3
   },
   "file_extension": ".py",
   "mimetype": "text/x-python",
   "name": "python",
   "nbconvert_exporter": "python",
   "pygments_lexer": "ipython3",
   "version": "3.8.5"
  },
  "toc": {
   "base_numbering": 1,
   "nav_menu": {},
   "number_sections": true,
   "sideBar": true,
   "skip_h1_title": true,
   "title_cell": "Table of Contents",
   "title_sidebar": "Contents",
   "toc_cell": false,
   "toc_position": {},
   "toc_section_display": true,
   "toc_window_display": false
  }
 },
 "nbformat": 4,
 "nbformat_minor": 5
}
