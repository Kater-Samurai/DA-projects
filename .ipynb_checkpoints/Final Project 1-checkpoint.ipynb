{
 "cells": [
  {
   "cell_type": "markdown",
   "metadata": {},
   "source": [
    "# Ссылка на презентацию: https://disk.yandex.ru/i/JR3nODamFU8dBQ"
   ]
  },
  {
   "cell_type": "markdown",
   "metadata": {},
   "source": [
    "# Цель\n",
    "Проанализировать клиентов регионального банка и выделить портрет клиентов, которые склонны уходить из банка. Это необходимо чтобы воздействовать на сегмент склонных к оттоку и удерживать его, тем самым сохраняя или увеличивая прибыль"
   ]
  },
  {
   "cell_type": "markdown",
   "metadata": {},
   "source": [
    "# Задачи\n",
    "+ Провести исследовательский анализ данных\n",
    "+ Выделить портреты клиентов, которые склонны уходить из банка,\n",
    "+ Сформулировать и проверить статистические гипотезы о различиях дохода между группами клиентов "
   ]
  },
  {
   "cell_type": "markdown",
   "metadata": {},
   "source": [
    "## 1. Обзор данных"
   ]
  },
  {
   "cell_type": "markdown",
   "metadata": {},
   "source": [
    "### 1.1 Импорт библиотек"
   ]
  },
  {
   "cell_type": "code",
   "execution_count": 1,
   "metadata": {},
   "outputs": [],
   "source": [
    "import pandas as pd\n",
    "import matplotlib.pyplot as plt\n",
    "import numpy as np\n",
    "from scipy import stats as st"
   ]
  },
  {
   "cell_type": "markdown",
   "metadata": {},
   "source": [
    "### 1.2 Извлечение данных"
   ]
  },
  {
   "cell_type": "code",
   "execution_count": 2,
   "metadata": {},
   "outputs": [],
   "source": [
    "df = pd.read_csv('bank_dataset.csv')"
   ]
  },
  {
   "cell_type": "code",
   "execution_count": 3,
   "metadata": {},
   "outputs": [
    {
     "data": {
      "text/html": [
       "<div>\n",
       "<style scoped>\n",
       "    .dataframe tbody tr th:only-of-type {\n",
       "        vertical-align: middle;\n",
       "    }\n",
       "\n",
       "    .dataframe tbody tr th {\n",
       "        vertical-align: top;\n",
       "    }\n",
       "\n",
       "    .dataframe thead th {\n",
       "        text-align: right;\n",
       "    }\n",
       "</style>\n",
       "<table border=\"1\" class=\"dataframe\">\n",
       "  <thead>\n",
       "    <tr style=\"text-align: right;\">\n",
       "      <th></th>\n",
       "      <th>userid</th>\n",
       "      <th>score</th>\n",
       "      <th>City</th>\n",
       "      <th>Gender</th>\n",
       "      <th>Age</th>\n",
       "      <th>Objects</th>\n",
       "      <th>Balance</th>\n",
       "      <th>Products</th>\n",
       "      <th>CreditCard</th>\n",
       "      <th>Loyalty</th>\n",
       "      <th>estimated_salary</th>\n",
       "      <th>Churn</th>\n",
       "    </tr>\n",
       "  </thead>\n",
       "  <tbody>\n",
       "    <tr>\n",
       "      <th>0</th>\n",
       "      <td>15677338</td>\n",
       "      <td>619</td>\n",
       "      <td>Ярославль</td>\n",
       "      <td>Ж</td>\n",
       "      <td>42</td>\n",
       "      <td>2</td>\n",
       "      <td>NaN</td>\n",
       "      <td>1</td>\n",
       "      <td>1</td>\n",
       "      <td>1</td>\n",
       "      <td>101348.88</td>\n",
       "      <td>1</td>\n",
       "    </tr>\n",
       "    <tr>\n",
       "      <th>1</th>\n",
       "      <td>15690047</td>\n",
       "      <td>608</td>\n",
       "      <td>Рыбинск</td>\n",
       "      <td>Ж</td>\n",
       "      <td>41</td>\n",
       "      <td>1</td>\n",
       "      <td>83807.86</td>\n",
       "      <td>1</td>\n",
       "      <td>0</td>\n",
       "      <td>1</td>\n",
       "      <td>112542.58</td>\n",
       "      <td>0</td>\n",
       "    </tr>\n",
       "    <tr>\n",
       "      <th>2</th>\n",
       "      <td>15662040</td>\n",
       "      <td>502</td>\n",
       "      <td>Ярославль</td>\n",
       "      <td>Ж</td>\n",
       "      <td>42</td>\n",
       "      <td>8</td>\n",
       "      <td>159660.80</td>\n",
       "      <td>3</td>\n",
       "      <td>1</td>\n",
       "      <td>0</td>\n",
       "      <td>113931.57</td>\n",
       "      <td>1</td>\n",
       "    </tr>\n",
       "    <tr>\n",
       "      <th>3</th>\n",
       "      <td>15744090</td>\n",
       "      <td>699</td>\n",
       "      <td>Ярославль</td>\n",
       "      <td>Ж</td>\n",
       "      <td>39</td>\n",
       "      <td>1</td>\n",
       "      <td>NaN</td>\n",
       "      <td>2</td>\n",
       "      <td>0</td>\n",
       "      <td>0</td>\n",
       "      <td>93826.63</td>\n",
       "      <td>0</td>\n",
       "    </tr>\n",
       "    <tr>\n",
       "      <th>4</th>\n",
       "      <td>15780624</td>\n",
       "      <td>850</td>\n",
       "      <td>Рыбинск</td>\n",
       "      <td>Ж</td>\n",
       "      <td>43</td>\n",
       "      <td>2</td>\n",
       "      <td>125510.82</td>\n",
       "      <td>1</td>\n",
       "      <td>1</td>\n",
       "      <td>1</td>\n",
       "      <td>79084.10</td>\n",
       "      <td>0</td>\n",
       "    </tr>\n",
       "  </tbody>\n",
       "</table>\n",
       "</div>"
      ],
      "text/plain": [
       "     userid  score       City Gender  Age  Objects    Balance  Products  \\\n",
       "0  15677338    619  Ярославль      Ж   42        2        NaN         1   \n",
       "1  15690047    608    Рыбинск      Ж   41        1   83807.86         1   \n",
       "2  15662040    502  Ярославль      Ж   42        8  159660.80         3   \n",
       "3  15744090    699  Ярославль      Ж   39        1        NaN         2   \n",
       "4  15780624    850    Рыбинск      Ж   43        2  125510.82         1   \n",
       "\n",
       "   CreditCard  Loyalty  estimated_salary  Churn  \n",
       "0           1        1         101348.88      1  \n",
       "1           0        1         112542.58      0  \n",
       "2           1        0         113931.57      1  \n",
       "3           0        0          93826.63      0  \n",
       "4           1        1          79084.10      0  "
      ]
     },
     "execution_count": 3,
     "metadata": {},
     "output_type": "execute_result"
    }
   ],
   "source": [
    "df.head()"
   ]
  },
  {
   "cell_type": "code",
   "execution_count": 4,
   "metadata": {},
   "outputs": [
    {
     "name": "stdout",
     "output_type": "stream",
     "text": [
      "<class 'pandas.core.frame.DataFrame'>\n",
      "RangeIndex: 10000 entries, 0 to 9999\n",
      "Data columns (total 12 columns):\n",
      " #   Column            Non-Null Count  Dtype  \n",
      "---  ------            --------------  -----  \n",
      " 0   userid            10000 non-null  int64  \n",
      " 1   score             10000 non-null  int64  \n",
      " 2   City              10000 non-null  object \n",
      " 3   Gender            10000 non-null  object \n",
      " 4   Age               10000 non-null  int64  \n",
      " 5   Objects           10000 non-null  int64  \n",
      " 6   Balance           6383 non-null   float64\n",
      " 7   Products          10000 non-null  int64  \n",
      " 8   CreditCard        10000 non-null  int64  \n",
      " 9   Loyalty           10000 non-null  int64  \n",
      " 10  estimated_salary  10000 non-null  float64\n",
      " 11  Churn             10000 non-null  int64  \n",
      "dtypes: float64(2), int64(8), object(2)\n",
      "memory usage: 937.6+ KB\n"
     ]
    }
   ],
   "source": [
    "df.info()"
   ]
  },
  {
   "cell_type": "code",
   "execution_count": 5,
   "metadata": {},
   "outputs": [
    {
     "data": {
      "text/html": [
       "<div>\n",
       "<style scoped>\n",
       "    .dataframe tbody tr th:only-of-type {\n",
       "        vertical-align: middle;\n",
       "    }\n",
       "\n",
       "    .dataframe tbody tr th {\n",
       "        vertical-align: top;\n",
       "    }\n",
       "\n",
       "    .dataframe thead th {\n",
       "        text-align: right;\n",
       "    }\n",
       "</style>\n",
       "<table border=\"1\" class=\"dataframe\">\n",
       "  <thead>\n",
       "    <tr style=\"text-align: right;\">\n",
       "      <th></th>\n",
       "      <th>userid</th>\n",
       "      <th>score</th>\n",
       "      <th>Age</th>\n",
       "      <th>Objects</th>\n",
       "      <th>Balance</th>\n",
       "      <th>Products</th>\n",
       "      <th>CreditCard</th>\n",
       "      <th>Loyalty</th>\n",
       "      <th>estimated_salary</th>\n",
       "      <th>Churn</th>\n",
       "    </tr>\n",
       "  </thead>\n",
       "  <tbody>\n",
       "    <tr>\n",
       "      <th>count</th>\n",
       "      <td>1.000000e+04</td>\n",
       "      <td>10000.000000</td>\n",
       "      <td>10000.000000</td>\n",
       "      <td>10000.000000</td>\n",
       "      <td>6383.000000</td>\n",
       "      <td>10000.000000</td>\n",
       "      <td>10000.00000</td>\n",
       "      <td>10000.000000</td>\n",
       "      <td>10000.000000</td>\n",
       "      <td>10000.000000</td>\n",
       "    </tr>\n",
       "    <tr>\n",
       "      <th>mean</th>\n",
       "      <td>1.573368e+07</td>\n",
       "      <td>650.528800</td>\n",
       "      <td>38.921800</td>\n",
       "      <td>5.012800</td>\n",
       "      <td>119827.493793</td>\n",
       "      <td>1.530200</td>\n",
       "      <td>0.70550</td>\n",
       "      <td>0.515100</td>\n",
       "      <td>100090.239881</td>\n",
       "      <td>0.203700</td>\n",
       "    </tr>\n",
       "    <tr>\n",
       "      <th>std</th>\n",
       "      <td>7.193619e+04</td>\n",
       "      <td>96.653299</td>\n",
       "      <td>10.487806</td>\n",
       "      <td>2.892174</td>\n",
       "      <td>30095.056462</td>\n",
       "      <td>0.581654</td>\n",
       "      <td>0.45584</td>\n",
       "      <td>0.499797</td>\n",
       "      <td>57510.492818</td>\n",
       "      <td>0.402769</td>\n",
       "    </tr>\n",
       "    <tr>\n",
       "      <th>min</th>\n",
       "      <td>1.560844e+07</td>\n",
       "      <td>350.000000</td>\n",
       "      <td>18.000000</td>\n",
       "      <td>0.000000</td>\n",
       "      <td>3768.690000</td>\n",
       "      <td>1.000000</td>\n",
       "      <td>0.00000</td>\n",
       "      <td>0.000000</td>\n",
       "      <td>11.580000</td>\n",
       "      <td>0.000000</td>\n",
       "    </tr>\n",
       "    <tr>\n",
       "      <th>25%</th>\n",
       "      <td>1.567126e+07</td>\n",
       "      <td>584.000000</td>\n",
       "      <td>32.000000</td>\n",
       "      <td>3.000000</td>\n",
       "      <td>100181.975000</td>\n",
       "      <td>1.000000</td>\n",
       "      <td>0.00000</td>\n",
       "      <td>0.000000</td>\n",
       "      <td>51002.110000</td>\n",
       "      <td>0.000000</td>\n",
       "    </tr>\n",
       "    <tr>\n",
       "      <th>50%</th>\n",
       "      <td>1.573347e+07</td>\n",
       "      <td>652.000000</td>\n",
       "      <td>37.000000</td>\n",
       "      <td>5.000000</td>\n",
       "      <td>119839.690000</td>\n",
       "      <td>1.000000</td>\n",
       "      <td>1.00000</td>\n",
       "      <td>1.000000</td>\n",
       "      <td>100193.915000</td>\n",
       "      <td>0.000000</td>\n",
       "    </tr>\n",
       "    <tr>\n",
       "      <th>75%</th>\n",
       "      <td>1.579597e+07</td>\n",
       "      <td>718.000000</td>\n",
       "      <td>44.000000</td>\n",
       "      <td>7.000000</td>\n",
       "      <td>139512.290000</td>\n",
       "      <td>2.000000</td>\n",
       "      <td>1.00000</td>\n",
       "      <td>1.000000</td>\n",
       "      <td>149388.247500</td>\n",
       "      <td>0.000000</td>\n",
       "    </tr>\n",
       "    <tr>\n",
       "      <th>max</th>\n",
       "      <td>1.585843e+07</td>\n",
       "      <td>850.000000</td>\n",
       "      <td>92.000000</td>\n",
       "      <td>10.000000</td>\n",
       "      <td>250898.090000</td>\n",
       "      <td>4.000000</td>\n",
       "      <td>1.00000</td>\n",
       "      <td>1.000000</td>\n",
       "      <td>199992.480000</td>\n",
       "      <td>1.000000</td>\n",
       "    </tr>\n",
       "  </tbody>\n",
       "</table>\n",
       "</div>"
      ],
      "text/plain": [
       "             userid         score           Age       Objects        Balance  \\\n",
       "count  1.000000e+04  10000.000000  10000.000000  10000.000000    6383.000000   \n",
       "mean   1.573368e+07    650.528800     38.921800      5.012800  119827.493793   \n",
       "std    7.193619e+04     96.653299     10.487806      2.892174   30095.056462   \n",
       "min    1.560844e+07    350.000000     18.000000      0.000000    3768.690000   \n",
       "25%    1.567126e+07    584.000000     32.000000      3.000000  100181.975000   \n",
       "50%    1.573347e+07    652.000000     37.000000      5.000000  119839.690000   \n",
       "75%    1.579597e+07    718.000000     44.000000      7.000000  139512.290000   \n",
       "max    1.585843e+07    850.000000     92.000000     10.000000  250898.090000   \n",
       "\n",
       "           Products   CreditCard       Loyalty  estimated_salary         Churn  \n",
       "count  10000.000000  10000.00000  10000.000000      10000.000000  10000.000000  \n",
       "mean       1.530200      0.70550      0.515100     100090.239881      0.203700  \n",
       "std        0.581654      0.45584      0.499797      57510.492818      0.402769  \n",
       "min        1.000000      0.00000      0.000000         11.580000      0.000000  \n",
       "25%        1.000000      0.00000      0.000000      51002.110000      0.000000  \n",
       "50%        1.000000      1.00000      1.000000     100193.915000      0.000000  \n",
       "75%        2.000000      1.00000      1.000000     149388.247500      0.000000  \n",
       "max        4.000000      1.00000      1.000000     199992.480000      1.000000  "
      ]
     },
     "execution_count": 5,
     "metadata": {},
     "output_type": "execute_result"
    }
   ],
   "source": [
    "df.describe()"
   ]
  },
  {
   "cell_type": "markdown",
   "metadata": {},
   "source": [
    "### 1.3 Вывод"
   ]
  },
  {
   "cell_type": "markdown",
   "metadata": {},
   "source": [
    "#### По результатам превичного обзора данного необходимо:\n",
    "+ Привести названия полей к единому виду\n",
    "+ Исследовать природу пропусков в поле баланса клиентов\n",
    "+ Проверить значения отдельных полей на явные и неявные дубликаты"
   ]
  },
  {
   "cell_type": "markdown",
   "metadata": {},
   "source": [
    "## 2. Предобработка данных"
   ]
  },
  {
   "cell_type": "markdown",
   "metadata": {},
   "source": [
    "### 2.1 Приведение названий полей к единому типу"
   ]
  },
  {
   "cell_type": "code",
   "execution_count": 6,
   "metadata": {},
   "outputs": [],
   "source": [
    "df = df.rename(\n",
    "columns={\n",
    "    'Age': 'age',\n",
    "    'Objects': 'objects',\n",
    "    'Balance': 'balance',\n",
    "    'Products': 'products', \n",
    "    'CreditCard': 'creditcard', \n",
    "    'City': 'city', \n",
    "    'Gender': 'gender', \n",
    "    'Loyalty': 'loyalty', \n",
    "    'Churn': 'churn'\n",
    "}\n",
    ")"
   ]
  },
  {
   "cell_type": "markdown",
   "metadata": {},
   "source": [
    "### 2.2 Анализ пропусков"
   ]
  },
  {
   "cell_type": "code",
   "execution_count": 7,
   "metadata": {},
   "outputs": [
    {
     "name": "stdout",
     "output_type": "stream",
     "text": [
      "Доля пропусков составляет: 36.17\n"
     ]
    }
   ],
   "source": [
    "print('Доля пропусков составляет:',df[df['balance'].isna()]['userid'].count()/df['userid'].count()*100)"
   ]
  },
  {
   "cell_type": "code",
   "execution_count": 8,
   "metadata": {},
   "outputs": [
    {
     "data": {
      "text/html": [
       "<div>\n",
       "<style scoped>\n",
       "    .dataframe tbody tr th:only-of-type {\n",
       "        vertical-align: middle;\n",
       "    }\n",
       "\n",
       "    .dataframe tbody tr th {\n",
       "        vertical-align: top;\n",
       "    }\n",
       "\n",
       "    .dataframe thead th {\n",
       "        text-align: right;\n",
       "    }\n",
       "</style>\n",
       "<table border=\"1\" class=\"dataframe\">\n",
       "  <thead>\n",
       "    <tr style=\"text-align: right;\">\n",
       "      <th></th>\n",
       "      <th>userid</th>\n",
       "      <th>score</th>\n",
       "      <th>city</th>\n",
       "      <th>gender</th>\n",
       "      <th>age</th>\n",
       "      <th>objects</th>\n",
       "      <th>balance</th>\n",
       "      <th>products</th>\n",
       "      <th>creditcard</th>\n",
       "      <th>loyalty</th>\n",
       "      <th>estimated_salary</th>\n",
       "      <th>churn</th>\n",
       "    </tr>\n",
       "  </thead>\n",
       "  <tbody>\n",
       "    <tr>\n",
       "      <th>0</th>\n",
       "      <td>15677338</td>\n",
       "      <td>619</td>\n",
       "      <td>Ярославль</td>\n",
       "      <td>Ж</td>\n",
       "      <td>42</td>\n",
       "      <td>2</td>\n",
       "      <td>NaN</td>\n",
       "      <td>1</td>\n",
       "      <td>1</td>\n",
       "      <td>1</td>\n",
       "      <td>101348.88</td>\n",
       "      <td>1</td>\n",
       "    </tr>\n",
       "    <tr>\n",
       "      <th>3</th>\n",
       "      <td>15744090</td>\n",
       "      <td>699</td>\n",
       "      <td>Ярославль</td>\n",
       "      <td>Ж</td>\n",
       "      <td>39</td>\n",
       "      <td>1</td>\n",
       "      <td>NaN</td>\n",
       "      <td>2</td>\n",
       "      <td>0</td>\n",
       "      <td>0</td>\n",
       "      <td>93826.63</td>\n",
       "      <td>0</td>\n",
       "    </tr>\n",
       "    <tr>\n",
       "      <th>6</th>\n",
       "      <td>15635267</td>\n",
       "      <td>822</td>\n",
       "      <td>Ярославль</td>\n",
       "      <td>М</td>\n",
       "      <td>50</td>\n",
       "      <td>7</td>\n",
       "      <td>NaN</td>\n",
       "      <td>2</td>\n",
       "      <td>1</td>\n",
       "      <td>1</td>\n",
       "      <td>10062.80</td>\n",
       "      <td>0</td>\n",
       "    </tr>\n",
       "    <tr>\n",
       "      <th>11</th>\n",
       "      <td>15779909</td>\n",
       "      <td>497</td>\n",
       "      <td>Рыбинск</td>\n",
       "      <td>М</td>\n",
       "      <td>24</td>\n",
       "      <td>3</td>\n",
       "      <td>NaN</td>\n",
       "      <td>2</td>\n",
       "      <td>1</td>\n",
       "      <td>0</td>\n",
       "      <td>76390.01</td>\n",
       "      <td>0</td>\n",
       "    </tr>\n",
       "    <tr>\n",
       "      <th>12</th>\n",
       "      <td>15675000</td>\n",
       "      <td>476</td>\n",
       "      <td>Ярославль</td>\n",
       "      <td>Ж</td>\n",
       "      <td>34</td>\n",
       "      <td>10</td>\n",
       "      <td>NaN</td>\n",
       "      <td>2</td>\n",
       "      <td>1</td>\n",
       "      <td>0</td>\n",
       "      <td>26260.98</td>\n",
       "      <td>0</td>\n",
       "    </tr>\n",
       "    <tr>\n",
       "      <th>...</th>\n",
       "      <td>...</td>\n",
       "      <td>...</td>\n",
       "      <td>...</td>\n",
       "      <td>...</td>\n",
       "      <td>...</td>\n",
       "      <td>...</td>\n",
       "      <td>...</td>\n",
       "      <td>...</td>\n",
       "      <td>...</td>\n",
       "      <td>...</td>\n",
       "      <td>...</td>\n",
       "      <td>...</td>\n",
       "    </tr>\n",
       "    <tr>\n",
       "      <th>9989</th>\n",
       "      <td>15648358</td>\n",
       "      <td>841</td>\n",
       "      <td>Рыбинск</td>\n",
       "      <td>М</td>\n",
       "      <td>28</td>\n",
       "      <td>4</td>\n",
       "      <td>NaN</td>\n",
       "      <td>2</td>\n",
       "      <td>1</td>\n",
       "      <td>1</td>\n",
       "      <td>179436.60</td>\n",
       "      <td>0</td>\n",
       "    </tr>\n",
       "    <tr>\n",
       "      <th>9992</th>\n",
       "      <td>15699841</td>\n",
       "      <td>726</td>\n",
       "      <td>Рыбинск</td>\n",
       "      <td>М</td>\n",
       "      <td>36</td>\n",
       "      <td>2</td>\n",
       "      <td>NaN</td>\n",
       "      <td>1</td>\n",
       "      <td>1</td>\n",
       "      <td>0</td>\n",
       "      <td>195192.40</td>\n",
       "      <td>0</td>\n",
       "    </tr>\n",
       "    <tr>\n",
       "      <th>9994</th>\n",
       "      <td>15762030</td>\n",
       "      <td>800</td>\n",
       "      <td>Ярославль</td>\n",
       "      <td>Ж</td>\n",
       "      <td>29</td>\n",
       "      <td>2</td>\n",
       "      <td>NaN</td>\n",
       "      <td>2</td>\n",
       "      <td>0</td>\n",
       "      <td>0</td>\n",
       "      <td>167773.55</td>\n",
       "      <td>0</td>\n",
       "    </tr>\n",
       "    <tr>\n",
       "      <th>9995</th>\n",
       "      <td>15648965</td>\n",
       "      <td>771</td>\n",
       "      <td>Ярославль</td>\n",
       "      <td>М</td>\n",
       "      <td>39</td>\n",
       "      <td>5</td>\n",
       "      <td>NaN</td>\n",
       "      <td>2</td>\n",
       "      <td>1</td>\n",
       "      <td>0</td>\n",
       "      <td>96270.64</td>\n",
       "      <td>0</td>\n",
       "    </tr>\n",
       "    <tr>\n",
       "      <th>9997</th>\n",
       "      <td>15627268</td>\n",
       "      <td>709</td>\n",
       "      <td>Ярославль</td>\n",
       "      <td>Ж</td>\n",
       "      <td>36</td>\n",
       "      <td>7</td>\n",
       "      <td>NaN</td>\n",
       "      <td>1</td>\n",
       "      <td>0</td>\n",
       "      <td>1</td>\n",
       "      <td>42085.58</td>\n",
       "      <td>1</td>\n",
       "    </tr>\n",
       "  </tbody>\n",
       "</table>\n",
       "<p>3617 rows × 12 columns</p>\n",
       "</div>"
      ],
      "text/plain": [
       "        userid  score       city gender  age  objects  balance  products  \\\n",
       "0     15677338    619  Ярославль      Ж   42        2      NaN         1   \n",
       "3     15744090    699  Ярославль      Ж   39        1      NaN         2   \n",
       "6     15635267    822  Ярославль      М   50        7      NaN         2   \n",
       "11    15779909    497    Рыбинск      М   24        3      NaN         2   \n",
       "12    15675000    476  Ярославль      Ж   34       10      NaN         2   \n",
       "...        ...    ...        ...    ...  ...      ...      ...       ...   \n",
       "9989  15648358    841    Рыбинск      М   28        4      NaN         2   \n",
       "9992  15699841    726    Рыбинск      М   36        2      NaN         1   \n",
       "9994  15762030    800  Ярославль      Ж   29        2      NaN         2   \n",
       "9995  15648965    771  Ярославль      М   39        5      NaN         2   \n",
       "9997  15627268    709  Ярославль      Ж   36        7      NaN         1   \n",
       "\n",
       "      creditcard  loyalty  estimated_salary  churn  \n",
       "0              1        1         101348.88      1  \n",
       "3              0        0          93826.63      0  \n",
       "6              1        1          10062.80      0  \n",
       "11             1        0          76390.01      0  \n",
       "12             1        0          26260.98      0  \n",
       "...          ...      ...               ...    ...  \n",
       "9989           1        1         179436.60      0  \n",
       "9992           1        0         195192.40      0  \n",
       "9994           0        0         167773.55      0  \n",
       "9995           1        0          96270.64      0  \n",
       "9997           0        1          42085.58      1  \n",
       "\n",
       "[3617 rows x 12 columns]"
      ]
     },
     "execution_count": 8,
     "metadata": {},
     "output_type": "execute_result"
    }
   ],
   "source": [
    "#36% процентов это очень много чтобы удалить строки с пропусками\n",
    "# Заполнить медианным и средним я не имею право поскольку не имею на это оснований, к тому же это исказит данные\n",
    "df[df['balance'].isna()]"
   ]
  },
  {
   "cell_type": "code",
   "execution_count": 9,
   "metadata": {},
   "outputs": [
    {
     "name": "stdout",
     "output_type": "stream",
     "text": [
      "Количество записей без баланса у лояльных клиентов 1873\n",
      "Количество записей без баланса у оставшихся клиентов 3117\n",
      "Количество записей без баланса у ушедших клиентов 500\n"
     ]
    }
   ],
   "source": [
    "# Более того, выявлено что на отсутствие баланса не влияют ни активность клиента, ни факт оттока\n",
    "print('Количество записей без баланса у лояльных клиентов',df[(df['balance'].isna()) & (df['loyalty']==1)]['userid'].count())\n",
    "print('Количество записей без баланса у оставшихся клиентов',df[(df['balance'].isna()) & (df['churn']==0)]['userid'].count())\n",
    "print('Количество записей без баланса у ушедших клиентов',df[(df['balance'].isna()) & (df['churn']==1)]['userid'].count())\n",
    "#Вероятно отсутсвие баланса это техническая ошибка системы. При исследовании балансов я не буду учитывать пропуски\n",
    "# Во всех остальных случаях отсутствие баланса не повлияет на цель исследования"
   ]
  },
  {
   "cell_type": "markdown",
   "metadata": {},
   "source": [
    "### 2.3 Анализ дубликатов"
   ]
  },
  {
   "cell_type": "code",
   "execution_count": 10,
   "metadata": {},
   "outputs": [
    {
     "name": "stdout",
     "output_type": "stream",
     "text": [
      "Дубликаты среди всего датафрейма: 0\n",
      "Дубликаты без поля userid: 0\n"
     ]
    }
   ],
   "source": [
    "print('Дубликаты среди всего датафрейма:',df.duplicated().sum())\n",
    "print('Дубликаты без поля userid:', df.drop('userid', axis=1).duplicated().sum())\n",
    "#Явных дубликатов нет"
   ]
  },
  {
   "cell_type": "code",
   "execution_count": 11,
   "metadata": {},
   "outputs": [
    {
     "name": "stdout",
     "output_type": "stream",
     "text": [
      "['Ярославль' 'Рыбинск' 'Ростов Великий']\n",
      "['Ж' 'М']\n",
      "[1 3 2 4]\n",
      "[ 2  1  8  7  4  6  3 10  5  9  0]\n"
     ]
    }
   ],
   "source": [
    "# Поиск неявных дубликатов\n",
    "print(df['city'].unique())\n",
    "print(df['gender'].unique())\n",
    "print(df['products'].unique())\n",
    "print(df['objects'].unique())\n",
    "# Неявных дубликатов не обнаружено"
   ]
  },
  {
   "cell_type": "markdown",
   "metadata": {},
   "source": [
    "### 2.4 Вывод"
   ]
  },
  {
   "cell_type": "markdown",
   "metadata": {},
   "source": [
    "#### В рамках предобработки данных было произведено:\n",
    "+ Приведение полей к единому типу\n",
    "+ Анализ пропусков и порядок работы с ними\n",
    "+ Анализ дубликатов среди данных"
   ]
  },
  {
   "cell_type": "markdown",
   "metadata": {},
   "source": [
    "## 3. Исследовательский анализ данных"
   ]
  },
  {
   "cell_type": "markdown",
   "metadata": {},
   "source": [
    "### 3.1 Построение распределений"
   ]
  },
  {
   "cell_type": "code",
   "execution_count": 12,
   "metadata": {},
   "outputs": [
    {
     "data": {
      "text/html": [
       "<div>\n",
       "<style scoped>\n",
       "    .dataframe tbody tr th:only-of-type {\n",
       "        vertical-align: middle;\n",
       "    }\n",
       "\n",
       "    .dataframe tbody tr th {\n",
       "        vertical-align: top;\n",
       "    }\n",
       "\n",
       "    .dataframe thead th {\n",
       "        text-align: right;\n",
       "    }\n",
       "</style>\n",
       "<table border=\"1\" class=\"dataframe\">\n",
       "  <thead>\n",
       "    <tr style=\"text-align: right;\">\n",
       "      <th></th>\n",
       "      <th>userid</th>\n",
       "      <th>score</th>\n",
       "      <th>age</th>\n",
       "      <th>objects</th>\n",
       "      <th>balance</th>\n",
       "      <th>products</th>\n",
       "      <th>creditcard</th>\n",
       "      <th>loyalty</th>\n",
       "      <th>estimated_salary</th>\n",
       "      <th>churn</th>\n",
       "    </tr>\n",
       "  </thead>\n",
       "  <tbody>\n",
       "    <tr>\n",
       "      <th>userid</th>\n",
       "      <td>1.000000</td>\n",
       "      <td>0.005308</td>\n",
       "      <td>0.009497</td>\n",
       "      <td>-0.014883</td>\n",
       "      <td>-0.008690</td>\n",
       "      <td>0.016972</td>\n",
       "      <td>-0.014025</td>\n",
       "      <td>0.001665</td>\n",
       "      <td>0.015271</td>\n",
       "      <td>-0.006248</td>\n",
       "    </tr>\n",
       "    <tr>\n",
       "      <th>score</th>\n",
       "      <td>0.005308</td>\n",
       "      <td>1.000000</td>\n",
       "      <td>-0.003965</td>\n",
       "      <td>0.000842</td>\n",
       "      <td>-0.004744</td>\n",
       "      <td>0.012238</td>\n",
       "      <td>-0.005458</td>\n",
       "      <td>0.025651</td>\n",
       "      <td>-0.001384</td>\n",
       "      <td>-0.027094</td>\n",
       "    </tr>\n",
       "    <tr>\n",
       "      <th>age</th>\n",
       "      <td>0.009497</td>\n",
       "      <td>-0.003965</td>\n",
       "      <td>1.000000</td>\n",
       "      <td>-0.009997</td>\n",
       "      <td>-0.012822</td>\n",
       "      <td>-0.030680</td>\n",
       "      <td>-0.011721</td>\n",
       "      <td>0.085472</td>\n",
       "      <td>-0.007201</td>\n",
       "      <td>0.285323</td>\n",
       "    </tr>\n",
       "    <tr>\n",
       "      <th>objects</th>\n",
       "      <td>-0.014883</td>\n",
       "      <td>0.000842</td>\n",
       "      <td>-0.009997</td>\n",
       "      <td>1.000000</td>\n",
       "      <td>0.005827</td>\n",
       "      <td>0.013444</td>\n",
       "      <td>0.022583</td>\n",
       "      <td>-0.028362</td>\n",
       "      <td>0.007784</td>\n",
       "      <td>-0.014001</td>\n",
       "    </tr>\n",
       "    <tr>\n",
       "      <th>balance</th>\n",
       "      <td>-0.008690</td>\n",
       "      <td>-0.004744</td>\n",
       "      <td>-0.012822</td>\n",
       "      <td>0.005827</td>\n",
       "      <td>1.000000</td>\n",
       "      <td>-0.001027</td>\n",
       "      <td>0.006721</td>\n",
       "      <td>-0.020418</td>\n",
       "      <td>-0.001856</td>\n",
       "      <td>0.017208</td>\n",
       "    </tr>\n",
       "    <tr>\n",
       "      <th>products</th>\n",
       "      <td>0.016972</td>\n",
       "      <td>0.012238</td>\n",
       "      <td>-0.030680</td>\n",
       "      <td>0.013444</td>\n",
       "      <td>-0.001027</td>\n",
       "      <td>1.000000</td>\n",
       "      <td>0.003183</td>\n",
       "      <td>0.009612</td>\n",
       "      <td>0.014204</td>\n",
       "      <td>-0.047820</td>\n",
       "    </tr>\n",
       "    <tr>\n",
       "      <th>creditcard</th>\n",
       "      <td>-0.014025</td>\n",
       "      <td>-0.005458</td>\n",
       "      <td>-0.011721</td>\n",
       "      <td>0.022583</td>\n",
       "      <td>0.006721</td>\n",
       "      <td>0.003183</td>\n",
       "      <td>1.000000</td>\n",
       "      <td>-0.011866</td>\n",
       "      <td>-0.009933</td>\n",
       "      <td>-0.007138</td>\n",
       "    </tr>\n",
       "    <tr>\n",
       "      <th>loyalty</th>\n",
       "      <td>0.001665</td>\n",
       "      <td>0.025651</td>\n",
       "      <td>0.085472</td>\n",
       "      <td>-0.028362</td>\n",
       "      <td>-0.020418</td>\n",
       "      <td>0.009612</td>\n",
       "      <td>-0.011866</td>\n",
       "      <td>1.000000</td>\n",
       "      <td>-0.011421</td>\n",
       "      <td>-0.156128</td>\n",
       "    </tr>\n",
       "    <tr>\n",
       "      <th>estimated_salary</th>\n",
       "      <td>0.015271</td>\n",
       "      <td>-0.001384</td>\n",
       "      <td>-0.007201</td>\n",
       "      <td>0.007784</td>\n",
       "      <td>-0.001856</td>\n",
       "      <td>0.014204</td>\n",
       "      <td>-0.009933</td>\n",
       "      <td>-0.011421</td>\n",
       "      <td>1.000000</td>\n",
       "      <td>0.012097</td>\n",
       "    </tr>\n",
       "    <tr>\n",
       "      <th>churn</th>\n",
       "      <td>-0.006248</td>\n",
       "      <td>-0.027094</td>\n",
       "      <td>0.285323</td>\n",
       "      <td>-0.014001</td>\n",
       "      <td>0.017208</td>\n",
       "      <td>-0.047820</td>\n",
       "      <td>-0.007138</td>\n",
       "      <td>-0.156128</td>\n",
       "      <td>0.012097</td>\n",
       "      <td>1.000000</td>\n",
       "    </tr>\n",
       "  </tbody>\n",
       "</table>\n",
       "</div>"
      ],
      "text/plain": [
       "                    userid     score       age   objects   balance  products  \\\n",
       "userid            1.000000  0.005308  0.009497 -0.014883 -0.008690  0.016972   \n",
       "score             0.005308  1.000000 -0.003965  0.000842 -0.004744  0.012238   \n",
       "age               0.009497 -0.003965  1.000000 -0.009997 -0.012822 -0.030680   \n",
       "objects          -0.014883  0.000842 -0.009997  1.000000  0.005827  0.013444   \n",
       "balance          -0.008690 -0.004744 -0.012822  0.005827  1.000000 -0.001027   \n",
       "products          0.016972  0.012238 -0.030680  0.013444 -0.001027  1.000000   \n",
       "creditcard       -0.014025 -0.005458 -0.011721  0.022583  0.006721  0.003183   \n",
       "loyalty           0.001665  0.025651  0.085472 -0.028362 -0.020418  0.009612   \n",
       "estimated_salary  0.015271 -0.001384 -0.007201  0.007784 -0.001856  0.014204   \n",
       "churn            -0.006248 -0.027094  0.285323 -0.014001  0.017208 -0.047820   \n",
       "\n",
       "                  creditcard   loyalty  estimated_salary     churn  \n",
       "userid             -0.014025  0.001665          0.015271 -0.006248  \n",
       "score              -0.005458  0.025651         -0.001384 -0.027094  \n",
       "age                -0.011721  0.085472         -0.007201  0.285323  \n",
       "objects             0.022583 -0.028362          0.007784 -0.014001  \n",
       "balance             0.006721 -0.020418         -0.001856  0.017208  \n",
       "products            0.003183  0.009612          0.014204 -0.047820  \n",
       "creditcard          1.000000 -0.011866         -0.009933 -0.007138  \n",
       "loyalty            -0.011866  1.000000         -0.011421 -0.156128  \n",
       "estimated_salary   -0.009933 -0.011421          1.000000  0.012097  \n",
       "churn              -0.007138 -0.156128          0.012097  1.000000  "
      ]
     },
     "execution_count": 12,
     "metadata": {},
     "output_type": "execute_result"
    }
   ],
   "source": [
    "#Попробую выявить какие либо корреляции с ходу\n",
    "df.corr()\n",
    "#Высокий показатель кореляции по возрасту и по лояльности(ну это логично) "
   ]
  },
  {
   "cell_type": "code",
   "execution_count": 13,
   "metadata": {},
   "outputs": [
    {
     "data": {
      "text/plain": [
       "<matplotlib.legend.Legend at 0x1bc4b5bf670>"
      ]
     },
     "execution_count": 13,
     "metadata": {},
     "output_type": "execute_result"
    },
    {
     "data": {
      "image/png": "[encoded data removed]",
      "text/plain": [
       "<Figure size 432x288 with 1 Axes>"
      ]
     },
     "metadata": {
      "needs_background": "light"
     },
     "output_type": "display_data"
    }
   ],
   "source": [
    "# Анализируем кредитный рейтинг\n",
    "df['score'].plot( kind='hist', title='Кредитный рейтинг', bins=100)\n",
    "df[df['churn']==1]['score'].plot(kind='hist', bins=100)\n",
    "plt.legend(['Общее число клиентов', 'Число ушедших клиентов'])\n",
    "#Распределение покинувших банк, совпадает с общим распределением клиентов"
   ]
  },
  {
   "cell_type": "code",
   "execution_count": 14,
   "metadata": {},
   "outputs": [
    {
     "name": "stdout",
     "output_type": "stream",
     "text": [
      "Количество людей с очень высоким кредитным рейтингом: 655\n",
      "Доля людей с самым высоким кредитным рейтингом которые остались в банке 18.45\n"
     ]
    }
   ],
   "source": [
    "print('Количество людей с очень высоким кредитным рейтингом:',df[df['score']>=800]['userid'].count())\n",
    "c = round(df[(df['score']>=850) & (df['churn']==1)]['userid'].count()/df[df['score']>=850]['userid'].count()*100,2)\n",
    "print('Доля людей с самым высоким кредитным рейтингом которые остались в банке', c)\n",
    "\n",
    "#20% клиентов с высоким рейтингом все равно почему то ушли"
   ]
  },
  {
   "cell_type": "code",
   "execution_count": 15,
   "metadata": {},
   "outputs": [
    {
     "data": {
      "image/png": "[encoded data removed]",
      "text/plain": [
       "<Figure size 432x288 with 1 Axes>"
      ]
     },
     "metadata": {
      "needs_background": "light"
     },
     "output_type": "display_data"
    }
   ],
   "source": [
    "# Анализируем возраст клиентов\n",
    "df['age'].plot( kind='hist',x='Возраст', y='Число клиентов', title='Возраст клиентов', bins=25)\n",
    "df[df['churn']==1]['age'].plot(kind='hist', title='Возраст клиентов', bins=25)\n",
    "plt.legend(['Общее число клиентов', 'Число ушедших клиентов'])\n",
    "plt.show()\n",
    "# Не очень информативно, однако можно заметить, что распределение съехало вправо"
   ]
  },
  {
   "cell_type": "code",
   "execution_count": 16,
   "metadata": {},
   "outputs": [
    {
     "name": "stdout",
     "output_type": "stream",
     "text": [
      "Доля клиентов старше 40, которая покинула банк: 36 2\n",
      "Доля клиентов младше 40, которая покинула банк: 9.97\n"
     ]
    }
   ],
   "source": [
    "print('Доля клиентов старше 40, которая покинула банк:', \n",
    "      round(df[(df['age']>=40) & (df['churn']==1)]['userid'].count()/df[(df['age']>=40)]['userid'].count()*100),2)\n",
    "print('Доля клиентов младше 40, которая покинула банк:', \n",
    "      round(df[(df['age']<40) & (df['churn']==1)]['userid'].count()/df[(df['age']<40)]['userid'].count()*100,2))\n",
    "# Разница в 3,5 раза! Нужно что то сделать с этими очередями бабушек в банке!"
   ]
  },
  {
   "cell_type": "code",
   "execution_count": 17,
   "metadata": {},
   "outputs": [
    {
     "data": {
      "text/html": [
       "<div>\n",
       "<style scoped>\n",
       "    .dataframe tbody tr th:only-of-type {\n",
       "        vertical-align: middle;\n",
       "    }\n",
       "\n",
       "    .dataframe tbody tr th {\n",
       "        vertical-align: top;\n",
       "    }\n",
       "\n",
       "    .dataframe thead th {\n",
       "        text-align: right;\n",
       "    }\n",
       "</style>\n",
       "<table border=\"1\" class=\"dataframe\">\n",
       "  <thead>\n",
       "    <tr style=\"text-align: right;\">\n",
       "      <th></th>\n",
       "      <th>churn</th>\n",
       "    </tr>\n",
       "    <tr>\n",
       "      <th>objects</th>\n",
       "      <th></th>\n",
       "    </tr>\n",
       "  </thead>\n",
       "  <tbody>\n",
       "    <tr>\n",
       "      <th>0</th>\n",
       "      <td>0.230024</td>\n",
       "    </tr>\n",
       "    <tr>\n",
       "      <th>1</th>\n",
       "      <td>0.224155</td>\n",
       "    </tr>\n",
       "    <tr>\n",
       "      <th>2</th>\n",
       "      <td>0.191794</td>\n",
       "    </tr>\n",
       "    <tr>\n",
       "      <th>3</th>\n",
       "      <td>0.211100</td>\n",
       "    </tr>\n",
       "    <tr>\n",
       "      <th>4</th>\n",
       "      <td>0.205258</td>\n",
       "    </tr>\n",
       "    <tr>\n",
       "      <th>5</th>\n",
       "      <td>0.206522</td>\n",
       "    </tr>\n",
       "    <tr>\n",
       "      <th>6</th>\n",
       "      <td>0.202689</td>\n",
       "    </tr>\n",
       "    <tr>\n",
       "      <th>7</th>\n",
       "      <td>0.172179</td>\n",
       "    </tr>\n",
       "    <tr>\n",
       "      <th>8</th>\n",
       "      <td>0.192195</td>\n",
       "    </tr>\n",
       "    <tr>\n",
       "      <th>9</th>\n",
       "      <td>0.216463</td>\n",
       "    </tr>\n",
       "    <tr>\n",
       "      <th>10</th>\n",
       "      <td>0.206122</td>\n",
       "    </tr>\n",
       "  </tbody>\n",
       "</table>\n",
       "</div>"
      ],
      "text/plain": [
       "            churn\n",
       "objects          \n",
       "0        0.230024\n",
       "1        0.224155\n",
       "2        0.191794\n",
       "3        0.211100\n",
       "4        0.205258\n",
       "5        0.206522\n",
       "6        0.202689\n",
       "7        0.172179\n",
       "8        0.192195\n",
       "9        0.216463\n",
       "10       0.206122"
      ]
     },
     "execution_count": 17,
     "metadata": {},
     "output_type": "execute_result"
    }
   ],
   "source": [
    "# Анализируем количество продуктов и объектов у клиентов\n",
    "df.pivot_table(index='objects', values='churn', aggfunc='mean')\n",
    "# В каждой категории объектов доля оттока клиентов примерно одинакова, тут я зависимости не найду"
   ]
  },
  {
   "cell_type": "code",
   "execution_count": 18,
   "metadata": {},
   "outputs": [
    {
     "data": {
      "text/html": [
       "<div>\n",
       "<style scoped>\n",
       "    .dataframe tbody tr th:only-of-type {\n",
       "        vertical-align: middle;\n",
       "    }\n",
       "\n",
       "    .dataframe tbody tr th {\n",
       "        vertical-align: top;\n",
       "    }\n",
       "\n",
       "    .dataframe thead th {\n",
       "        text-align: right;\n",
       "    }\n",
       "</style>\n",
       "<table border=\"1\" class=\"dataframe\">\n",
       "  <thead>\n",
       "    <tr style=\"text-align: right;\">\n",
       "      <th></th>\n",
       "      <th>churn</th>\n",
       "    </tr>\n",
       "    <tr>\n",
       "      <th>products</th>\n",
       "      <th></th>\n",
       "    </tr>\n",
       "  </thead>\n",
       "  <tbody>\n",
       "    <tr>\n",
       "      <th>1</th>\n",
       "      <td>0.277144</td>\n",
       "    </tr>\n",
       "    <tr>\n",
       "      <th>2</th>\n",
       "      <td>0.075817</td>\n",
       "    </tr>\n",
       "    <tr>\n",
       "      <th>3</th>\n",
       "      <td>0.827068</td>\n",
       "    </tr>\n",
       "    <tr>\n",
       "      <th>4</th>\n",
       "      <td>1.000000</td>\n",
       "    </tr>\n",
       "  </tbody>\n",
       "</table>\n",
       "</div>"
      ],
      "text/plain": [
       "             churn\n",
       "products          \n",
       "1         0.277144\n",
       "2         0.075817\n",
       "3         0.827068\n",
       "4         1.000000"
      ]
     },
     "execution_count": 18,
     "metadata": {},
     "output_type": "execute_result"
    }
   ],
   "source": [
    "df.pivot_table(index='products', values='churn', aggfunc='mean')\n",
    "#df[df['churn']==1].pivot_table(index='products', values='churn', aggfunc='count')\n",
    "#Высокий показатель оттока у клиентов с 3 или 4 продуктами  и наоборот те, у кого 2 продукта уходят реже всего"
   ]
  },
  {
   "cell_type": "code",
   "execution_count": 19,
   "metadata": {},
   "outputs": [
    {
     "data": {
      "text/html": [
       "<div>\n",
       "<style scoped>\n",
       "    .dataframe tbody tr th:only-of-type {\n",
       "        vertical-align: middle;\n",
       "    }\n",
       "\n",
       "    .dataframe tbody tr th {\n",
       "        vertical-align: top;\n",
       "    }\n",
       "\n",
       "    .dataframe thead th {\n",
       "        text-align: right;\n",
       "    }\n",
       "</style>\n",
       "<table border=\"1\" class=\"dataframe\">\n",
       "  <thead>\n",
       "    <tr style=\"text-align: right;\">\n",
       "      <th></th>\n",
       "      <th>churn</th>\n",
       "    </tr>\n",
       "    <tr>\n",
       "      <th>creditcard</th>\n",
       "      <th></th>\n",
       "    </tr>\n",
       "  </thead>\n",
       "  <tbody>\n",
       "    <tr>\n",
       "      <th>0</th>\n",
       "      <td>0.208149</td>\n",
       "    </tr>\n",
       "    <tr>\n",
       "      <th>1</th>\n",
       "      <td>0.201843</td>\n",
       "    </tr>\n",
       "  </tbody>\n",
       "</table>\n",
       "</div>"
      ],
      "text/plain": [
       "               churn\n",
       "creditcard          \n",
       "0           0.208149\n",
       "1           0.201843"
      ]
     },
     "execution_count": 19,
     "metadata": {},
     "output_type": "execute_result"
    }
   ],
   "source": [
    "df.pivot_table(index='creditcard', values='churn', aggfunc='mean')\n",
    "# Наличие кредитной карты не влияет на факт оттока"
   ]
  },
  {
   "cell_type": "code",
   "execution_count": 20,
   "metadata": {},
   "outputs": [
    {
     "data": {
      "text/html": [
       "<div>\n",
       "<style scoped>\n",
       "    .dataframe tbody tr th:only-of-type {\n",
       "        vertical-align: middle;\n",
       "    }\n",
       "\n",
       "    .dataframe tbody tr th {\n",
       "        vertical-align: top;\n",
       "    }\n",
       "\n",
       "    .dataframe thead th {\n",
       "        text-align: right;\n",
       "    }\n",
       "</style>\n",
       "<table border=\"1\" class=\"dataframe\">\n",
       "  <thead>\n",
       "    <tr style=\"text-align: right;\">\n",
       "      <th></th>\n",
       "      <th>churn</th>\n",
       "    </tr>\n",
       "    <tr>\n",
       "      <th>city</th>\n",
       "      <th></th>\n",
       "    </tr>\n",
       "  </thead>\n",
       "  <tbody>\n",
       "    <tr>\n",
       "      <th>Ростов Великий</th>\n",
       "      <td>0.324432</td>\n",
       "    </tr>\n",
       "    <tr>\n",
       "      <th>Рыбинск</th>\n",
       "      <td>0.166734</td>\n",
       "    </tr>\n",
       "    <tr>\n",
       "      <th>Ярославль</th>\n",
       "      <td>0.161548</td>\n",
       "    </tr>\n",
       "  </tbody>\n",
       "</table>\n",
       "</div>"
      ],
      "text/plain": [
       "                   churn\n",
       "city                    \n",
       "Ростов Великий  0.324432\n",
       "Рыбинск         0.166734\n",
       "Ярославль       0.161548"
      ]
     },
     "execution_count": 20,
     "metadata": {},
     "output_type": "execute_result"
    }
   ],
   "source": [
    "#Анализируем влияние города и пола\n",
    "df.pivot_table(index='city', values='churn', aggfunc='mean')\n",
    "\n",
    "#Доля ушедших в Ростове вдвое больше чем в остальных городах, может имеет смысл провести рекламную кампанию в этом городе\n"
   ]
  },
  {
   "cell_type": "code",
   "execution_count": 21,
   "metadata": {},
   "outputs": [
    {
     "data": {
      "text/html": [
       "<div>\n",
       "<style scoped>\n",
       "    .dataframe tbody tr th:only-of-type {\n",
       "        vertical-align: middle;\n",
       "    }\n",
       "\n",
       "    .dataframe tbody tr th {\n",
       "        vertical-align: top;\n",
       "    }\n",
       "\n",
       "    .dataframe thead th {\n",
       "        text-align: right;\n",
       "    }\n",
       "</style>\n",
       "<table border=\"1\" class=\"dataframe\">\n",
       "  <thead>\n",
       "    <tr style=\"text-align: right;\">\n",
       "      <th></th>\n",
       "      <th>churn</th>\n",
       "    </tr>\n",
       "    <tr>\n",
       "      <th>gender</th>\n",
       "      <th></th>\n",
       "    </tr>\n",
       "  </thead>\n",
       "  <tbody>\n",
       "    <tr>\n",
       "      <th>Ж</th>\n",
       "      <td>0.250715</td>\n",
       "    </tr>\n",
       "    <tr>\n",
       "      <th>М</th>\n",
       "      <td>0.164559</td>\n",
       "    </tr>\n",
       "  </tbody>\n",
       "</table>\n",
       "</div>"
      ],
      "text/plain": [
       "           churn\n",
       "gender          \n",
       "Ж       0.250715\n",
       "М       0.164559"
      ]
     },
     "execution_count": 21,
     "metadata": {},
     "output_type": "execute_result"
    }
   ],
   "source": [
    "df.pivot_table(index='gender', values='churn', aggfunc='mean')\n",
    "# Пол не сильно влияет на факт оттока, хотя женщины на 10% уходят больше чем мужчины"
   ]
  },
  {
   "cell_type": "code",
   "execution_count": 22,
   "metadata": {},
   "outputs": [
    {
     "data": {
      "text/plain": [
       "<matplotlib.legend.Legend at 0x1bc4bcd8070>"
      ]
     },
     "execution_count": 22,
     "metadata": {},
     "output_type": "execute_result"
    },
    {
     "data": {
      "image/png": "[encoded data removed]",
      "text/plain": [
       "<Figure size 648x648 with 1 Axes>"
      ]
     },
     "metadata": {
      "needs_background": "light"
     },
     "output_type": "display_data"
    }
   ],
   "source": [
    "df['balance'].plot(kind='hist', bins=30)\n",
    "df[df['churn']==1]['balance'].plot(kind='hist', bins=30, figsize=(9,9), title='Анализ балансов клиентов')\n",
    "plt.legend(['Общее число клиентов', 'Число ушедших клиентов'])\n",
    "#Анализ балансов не выявил скрытых зависимостей оттока"
   ]
  },
  {
   "cell_type": "code",
   "execution_count": 23,
   "metadata": {},
   "outputs": [
    {
     "data": {
      "text/plain": [
       "Text(0.5, 1.0, 'Распределение баланса и зарплаты клиентов')"
      ]
     },
     "execution_count": 23,
     "metadata": {},
     "output_type": "execute_result"
    },
    {
     "data": {
      "image/png": "[encoded data removed]",
      "text/plain": [
       "<Figure size 432x288 with 1 Axes>"
      ]
     },
     "metadata": {
      "needs_background": "light"
     },
     "output_type": "display_data"
    }
   ],
   "source": [
    "df.boxplot(column=['balance','estimated_salary'])\n",
    "plt.title('Распределение баланса и зарплаты клиентов')"
   ]
  },
  {
   "cell_type": "code",
   "execution_count": 24,
   "metadata": {},
   "outputs": [
    {
     "data": {
      "text/plain": [
       "<matplotlib.legend.Legend at 0x1bc4be14940>"
      ]
     },
     "execution_count": 24,
     "metadata": {},
     "output_type": "execute_result"
    },
    {
     "data": {
      "image/png": "[encoded data removed]",
      "text/plain": [
       "<Figure size 648x648 with 1 Axes>"
      ]
     },
     "metadata": {
      "needs_background": "light"
     },
     "output_type": "display_data"
    }
   ],
   "source": [
    "df['estimated_salary'].plot(kind='hist', bins=50)\n",
    "df[df['churn']==1]['estimated_salary'].plot(kind='hist', bins=50, figsize=(9,9))\n",
    "plt.legend(['Общее число клиентов', 'Число ушедших клиентов'])\n",
    "#Распределение дохода также не выявило никаких зависимостей"
   ]
  },
  {
   "cell_type": "markdown",
   "metadata": {},
   "source": [
    "### 3.2 Составление портретов клиентов, которые склонны уходить из банка"
   ]
  },
  {
   "cell_type": "code",
   "execution_count": 25,
   "metadata": {},
   "outputs": [],
   "source": [
    "# По итогам исследования выше выявлено что категория клиентов после 40 или с количеством продуктов \n",
    "# равным 3 или 4 склонна уходить больше всего\n"
   ]
  },
  {
   "cell_type": "code",
   "execution_count": 26,
   "metadata": {},
   "outputs": [],
   "source": [
    "age_run = df[df['age']>40]\n",
    "pr_run = df[df['products']>=3]"
   ]
  },
  {
   "cell_type": "code",
   "execution_count": 27,
   "metadata": {},
   "outputs": [
    {
     "data": {
      "text/html": [
       "<div>\n",
       "<style scoped>\n",
       "    .dataframe tbody tr th:only-of-type {\n",
       "        vertical-align: middle;\n",
       "    }\n",
       "\n",
       "    .dataframe tbody tr th {\n",
       "        vertical-align: top;\n",
       "    }\n",
       "\n",
       "    .dataframe thead th {\n",
       "        text-align: right;\n",
       "    }\n",
       "</style>\n",
       "<table border=\"1\" class=\"dataframe\">\n",
       "  <thead>\n",
       "    <tr style=\"text-align: right;\">\n",
       "      <th></th>\n",
       "      <th>userid</th>\n",
       "      <th>score</th>\n",
       "      <th>age</th>\n",
       "      <th>objects</th>\n",
       "      <th>balance</th>\n",
       "      <th>products</th>\n",
       "      <th>creditcard</th>\n",
       "      <th>loyalty</th>\n",
       "      <th>estimated_salary</th>\n",
       "      <th>churn</th>\n",
       "    </tr>\n",
       "  </thead>\n",
       "  <tbody>\n",
       "    <tr>\n",
       "      <th>count</th>\n",
       "      <td>3.581000e+03</td>\n",
       "      <td>3581.000000</td>\n",
       "      <td>3581.000000</td>\n",
       "      <td>3581.000000</td>\n",
       "      <td>2381.000000</td>\n",
       "      <td>3581.000000</td>\n",
       "      <td>3581.000000</td>\n",
       "      <td>3581.000000</td>\n",
       "      <td>3581.000000</td>\n",
       "      <td>3581.000000</td>\n",
       "    </tr>\n",
       "    <tr>\n",
       "      <th>mean</th>\n",
       "      <td>1.573410e+07</td>\n",
       "      <td>649.087685</td>\n",
       "      <td>49.870148</td>\n",
       "      <td>4.977381</td>\n",
       "      <td>119438.126459</td>\n",
       "      <td>1.511310</td>\n",
       "      <td>0.694219</td>\n",
       "      <td>0.538956</td>\n",
       "      <td>100449.310821</td>\n",
       "      <td>0.377269</td>\n",
       "    </tr>\n",
       "    <tr>\n",
       "      <th>std</th>\n",
       "      <td>7.240635e+04</td>\n",
       "      <td>96.016567</td>\n",
       "      <td>8.668195</td>\n",
       "      <td>2.925861</td>\n",
       "      <td>30030.726602</td>\n",
       "      <td>0.641836</td>\n",
       "      <td>0.460802</td>\n",
       "      <td>0.498550</td>\n",
       "      <td>57378.419003</td>\n",
       "      <td>0.484771</td>\n",
       "    </tr>\n",
       "    <tr>\n",
       "      <th>min</th>\n",
       "      <td>1.560845e+07</td>\n",
       "      <td>350.000000</td>\n",
       "      <td>41.000000</td>\n",
       "      <td>0.000000</td>\n",
       "      <td>12459.190000</td>\n",
       "      <td>1.000000</td>\n",
       "      <td>0.000000</td>\n",
       "      <td>0.000000</td>\n",
       "      <td>11.580000</td>\n",
       "      <td>0.000000</td>\n",
       "    </tr>\n",
       "    <tr>\n",
       "      <th>25%</th>\n",
       "      <td>1.567174e+07</td>\n",
       "      <td>584.000000</td>\n",
       "      <td>43.000000</td>\n",
       "      <td>2.000000</td>\n",
       "      <td>99906.890000</td>\n",
       "      <td>1.000000</td>\n",
       "      <td>0.000000</td>\n",
       "      <td>0.000000</td>\n",
       "      <td>51636.700000</td>\n",
       "      <td>0.000000</td>\n",
       "    </tr>\n",
       "    <tr>\n",
       "      <th>50%</th>\n",
       "      <td>1.573351e+07</td>\n",
       "      <td>649.000000</td>\n",
       "      <td>47.000000</td>\n",
       "      <td>5.000000</td>\n",
       "      <td>119655.770000</td>\n",
       "      <td>1.000000</td>\n",
       "      <td>1.000000</td>\n",
       "      <td>1.000000</td>\n",
       "      <td>100183.050000</td>\n",
       "      <td>0.000000</td>\n",
       "    </tr>\n",
       "    <tr>\n",
       "      <th>75%</th>\n",
       "      <td>1.579662e+07</td>\n",
       "      <td>715.000000</td>\n",
       "      <td>54.000000</td>\n",
       "      <td>8.000000</td>\n",
       "      <td>138778.150000</td>\n",
       "      <td>2.000000</td>\n",
       "      <td>1.000000</td>\n",
       "      <td>1.000000</td>\n",
       "      <td>149756.710000</td>\n",
       "      <td>1.000000</td>\n",
       "    </tr>\n",
       "    <tr>\n",
       "      <th>max</th>\n",
       "      <td>1.585836e+07</td>\n",
       "      <td>850.000000</td>\n",
       "      <td>92.000000</td>\n",
       "      <td>10.000000</td>\n",
       "      <td>238387.560000</td>\n",
       "      <td>4.000000</td>\n",
       "      <td>1.000000</td>\n",
       "      <td>1.000000</td>\n",
       "      <td>199992.480000</td>\n",
       "      <td>1.000000</td>\n",
       "    </tr>\n",
       "  </tbody>\n",
       "</table>\n",
       "</div>"
      ],
      "text/plain": [
       "             userid        score          age      objects        balance  \\\n",
       "count  3.581000e+03  3581.000000  3581.000000  3581.000000    2381.000000   \n",
       "mean   1.573410e+07   649.087685    49.870148     4.977381  119438.126459   \n",
       "std    7.240635e+04    96.016567     8.668195     2.925861   30030.726602   \n",
       "min    1.560845e+07   350.000000    41.000000     0.000000   12459.190000   \n",
       "25%    1.567174e+07   584.000000    43.000000     2.000000   99906.890000   \n",
       "50%    1.573351e+07   649.000000    47.000000     5.000000  119655.770000   \n",
       "75%    1.579662e+07   715.000000    54.000000     8.000000  138778.150000   \n",
       "max    1.585836e+07   850.000000    92.000000    10.000000  238387.560000   \n",
       "\n",
       "          products   creditcard      loyalty  estimated_salary        churn  \n",
       "count  3581.000000  3581.000000  3581.000000       3581.000000  3581.000000  \n",
       "mean      1.511310     0.694219     0.538956     100449.310821     0.377269  \n",
       "std       0.641836     0.460802     0.498550      57378.419003     0.484771  \n",
       "min       1.000000     0.000000     0.000000         11.580000     0.000000  \n",
       "25%       1.000000     0.000000     0.000000      51636.700000     0.000000  \n",
       "50%       1.000000     1.000000     1.000000     100183.050000     0.000000  \n",
       "75%       2.000000     1.000000     1.000000     149756.710000     1.000000  \n",
       "max       4.000000     1.000000     1.000000     199992.480000     1.000000  "
      ]
     },
     "execution_count": 27,
     "metadata": {},
     "output_type": "execute_result"
    }
   ],
   "source": [
    "age_run.describe()"
   ]
  },
  {
   "cell_type": "code",
   "execution_count": 28,
   "metadata": {},
   "outputs": [
    {
     "data": {
      "text/html": [
       "<div>\n",
       "<style scoped>\n",
       "    .dataframe tbody tr th:only-of-type {\n",
       "        vertical-align: middle;\n",
       "    }\n",
       "\n",
       "    .dataframe tbody tr th {\n",
       "        vertical-align: top;\n",
       "    }\n",
       "\n",
       "    .dataframe thead th {\n",
       "        text-align: right;\n",
       "    }\n",
       "</style>\n",
       "<table border=\"1\" class=\"dataframe\">\n",
       "  <thead>\n",
       "    <tr style=\"text-align: right;\">\n",
       "      <th></th>\n",
       "      <th>city</th>\n",
       "      <th>churn_x</th>\n",
       "      <th>churn_y</th>\n",
       "      <th>percent</th>\n",
       "    </tr>\n",
       "  </thead>\n",
       "  <tbody>\n",
       "    <tr>\n",
       "      <th>0</th>\n",
       "      <td>Ростов Великий</td>\n",
       "      <td>1034</td>\n",
       "      <td>2509</td>\n",
       "      <td>41.21</td>\n",
       "    </tr>\n",
       "    <tr>\n",
       "      <th>1</th>\n",
       "      <td>Рыбинск</td>\n",
       "      <td>882</td>\n",
       "      <td>2477</td>\n",
       "      <td>35.61</td>\n",
       "    </tr>\n",
       "    <tr>\n",
       "      <th>2</th>\n",
       "      <td>Ярославль</td>\n",
       "      <td>1665</td>\n",
       "      <td>5014</td>\n",
       "      <td>33.21</td>\n",
       "    </tr>\n",
       "  </tbody>\n",
       "</table>\n",
       "</div>"
      ],
      "text/plain": [
       "             city  churn_x  churn_y  percent\n",
       "0  Ростов Великий     1034     2509    41.21\n",
       "1         Рыбинск      882     2477    35.61\n",
       "2       Ярославль     1665     5014    33.21"
      ]
     },
     "execution_count": 28,
     "metadata": {},
     "output_type": "execute_result"
    }
   ],
   "source": [
    "c = age_run.pivot_table(index='city', values='churn', aggfunc='count').reset_index()\n",
    "z = df.pivot_table(index='city', values='churn', aggfunc='count').reset_index()\n",
    "c = c.merge(z, on='city')\n",
    "c['percent'] = round(c['churn_x']/c['churn_y']*100,2)\n",
    "c\n",
    "# Категория клиентов по количеству разбита примерно одинаково по всем городам"
   ]
  },
  {
   "cell_type": "markdown",
   "metadata": {},
   "source": [
    "#### Перейдем к продуктовым"
   ]
  },
  {
   "cell_type": "code",
   "execution_count": 29,
   "metadata": {},
   "outputs": [
    {
     "data": {
      "text/html": [
       "<div>\n",
       "<style scoped>\n",
       "    .dataframe tbody tr th:only-of-type {\n",
       "        vertical-align: middle;\n",
       "    }\n",
       "\n",
       "    .dataframe tbody tr th {\n",
       "        vertical-align: top;\n",
       "    }\n",
       "\n",
       "    .dataframe thead th {\n",
       "        text-align: right;\n",
       "    }\n",
       "</style>\n",
       "<table border=\"1\" class=\"dataframe\">\n",
       "  <thead>\n",
       "    <tr style=\"text-align: right;\">\n",
       "      <th></th>\n",
       "      <th>userid</th>\n",
       "      <th>score</th>\n",
       "      <th>age</th>\n",
       "      <th>objects</th>\n",
       "      <th>balance</th>\n",
       "      <th>products</th>\n",
       "      <th>creditcard</th>\n",
       "      <th>loyalty</th>\n",
       "      <th>estimated_salary</th>\n",
       "      <th>churn</th>\n",
       "    </tr>\n",
       "  </thead>\n",
       "  <tbody>\n",
       "    <tr>\n",
       "      <th>count</th>\n",
       "      <td>3.260000e+02</td>\n",
       "      <td>326.000000</td>\n",
       "      <td>326.000000</td>\n",
       "      <td>326.000000</td>\n",
       "      <td>214.000000</td>\n",
       "      <td>326.000000</td>\n",
       "      <td>326.000000</td>\n",
       "      <td>326.000000</td>\n",
       "      <td>326.000000</td>\n",
       "      <td>326.000000</td>\n",
       "    </tr>\n",
       "    <tr>\n",
       "      <th>mean</th>\n",
       "      <td>1.573768e+07</td>\n",
       "      <td>649.113497</td>\n",
       "      <td>43.653374</td>\n",
       "      <td>5.058282</td>\n",
       "      <td>120074.314953</td>\n",
       "      <td>3.184049</td>\n",
       "      <td>0.708589</td>\n",
       "      <td>0.435583</td>\n",
       "      <td>104400.141503</td>\n",
       "      <td>0.858896</td>\n",
       "    </tr>\n",
       "    <tr>\n",
       "      <th>std</th>\n",
       "      <td>7.333764e+04</td>\n",
       "      <td>96.200413</td>\n",
       "      <td>10.148108</td>\n",
       "      <td>2.889713</td>\n",
       "      <td>30697.506247</td>\n",
       "      <td>0.388120</td>\n",
       "      <td>0.455111</td>\n",
       "      <td>0.496595</td>\n",
       "      <td>55759.764947</td>\n",
       "      <td>0.348664</td>\n",
       "    </tr>\n",
       "    <tr>\n",
       "      <th>min</th>\n",
       "      <td>1.560905e+07</td>\n",
       "      <td>358.000000</td>\n",
       "      <td>21.000000</td>\n",
       "      <td>0.000000</td>\n",
       "      <td>43772.660000</td>\n",
       "      <td>3.000000</td>\n",
       "      <td>0.000000</td>\n",
       "      <td>0.000000</td>\n",
       "      <td>3440.470000</td>\n",
       "      <td>0.000000</td>\n",
       "    </tr>\n",
       "    <tr>\n",
       "      <th>25%</th>\n",
       "      <td>1.567627e+07</td>\n",
       "      <td>587.250000</td>\n",
       "      <td>37.000000</td>\n",
       "      <td>3.000000</td>\n",
       "      <td>102639.192500</td>\n",
       "      <td>3.000000</td>\n",
       "      <td>0.000000</td>\n",
       "      <td>0.000000</td>\n",
       "      <td>64344.800000</td>\n",
       "      <td>1.000000</td>\n",
       "    </tr>\n",
       "    <tr>\n",
       "      <th>50%</th>\n",
       "      <td>1.573500e+07</td>\n",
       "      <td>650.000000</td>\n",
       "      <td>43.000000</td>\n",
       "      <td>5.000000</td>\n",
       "      <td>120003.275000</td>\n",
       "      <td>3.000000</td>\n",
       "      <td>1.000000</td>\n",
       "      <td>0.000000</td>\n",
       "      <td>103874.670000</td>\n",
       "      <td>1.000000</td>\n",
       "    </tr>\n",
       "    <tr>\n",
       "      <th>75%</th>\n",
       "      <td>1.580044e+07</td>\n",
       "      <td>711.000000</td>\n",
       "      <td>50.000000</td>\n",
       "      <td>8.000000</td>\n",
       "      <td>138941.252500</td>\n",
       "      <td>3.000000</td>\n",
       "      <td>1.000000</td>\n",
       "      <td>1.000000</td>\n",
       "      <td>151150.967500</td>\n",
       "      <td>1.000000</td>\n",
       "    </tr>\n",
       "    <tr>\n",
       "      <th>max</th>\n",
       "      <td>1.585823e+07</td>\n",
       "      <td>850.000000</td>\n",
       "      <td>77.000000</td>\n",
       "      <td>10.000000</td>\n",
       "      <td>250898.090000</td>\n",
       "      <td>4.000000</td>\n",
       "      <td>1.000000</td>\n",
       "      <td>1.000000</td>\n",
       "      <td>199357.240000</td>\n",
       "      <td>1.000000</td>\n",
       "    </tr>\n",
       "  </tbody>\n",
       "</table>\n",
       "</div>"
      ],
      "text/plain": [
       "             userid       score         age     objects        balance  \\\n",
       "count  3.260000e+02  326.000000  326.000000  326.000000     214.000000   \n",
       "mean   1.573768e+07  649.113497   43.653374    5.058282  120074.314953   \n",
       "std    7.333764e+04   96.200413   10.148108    2.889713   30697.506247   \n",
       "min    1.560905e+07  358.000000   21.000000    0.000000   43772.660000   \n",
       "25%    1.567627e+07  587.250000   37.000000    3.000000  102639.192500   \n",
       "50%    1.573500e+07  650.000000   43.000000    5.000000  120003.275000   \n",
       "75%    1.580044e+07  711.000000   50.000000    8.000000  138941.252500   \n",
       "max    1.585823e+07  850.000000   77.000000   10.000000  250898.090000   \n",
       "\n",
       "         products  creditcard     loyalty  estimated_salary       churn  \n",
       "count  326.000000  326.000000  326.000000        326.000000  326.000000  \n",
       "mean     3.184049    0.708589    0.435583     104400.141503    0.858896  \n",
       "std      0.388120    0.455111    0.496595      55759.764947    0.348664  \n",
       "min      3.000000    0.000000    0.000000       3440.470000    0.000000  \n",
       "25%      3.000000    0.000000    0.000000      64344.800000    1.000000  \n",
       "50%      3.000000    1.000000    0.000000     103874.670000    1.000000  \n",
       "75%      3.000000    1.000000    1.000000     151150.967500    1.000000  \n",
       "max      4.000000    1.000000    1.000000     199357.240000    1.000000  "
      ]
     },
     "execution_count": 29,
     "metadata": {},
     "output_type": "execute_result"
    }
   ],
   "source": [
    "pr_run.describe()"
   ]
  },
  {
   "cell_type": "code",
   "execution_count": 30,
   "metadata": {},
   "outputs": [
    {
     "data": {
      "text/html": [
       "<div>\n",
       "<style scoped>\n",
       "    .dataframe tbody tr th:only-of-type {\n",
       "        vertical-align: middle;\n",
       "    }\n",
       "\n",
       "    .dataframe tbody tr th {\n",
       "        vertical-align: top;\n",
       "    }\n",
       "\n",
       "    .dataframe thead th {\n",
       "        text-align: right;\n",
       "    }\n",
       "</style>\n",
       "<table border=\"1\" class=\"dataframe\">\n",
       "  <thead>\n",
       "    <tr style=\"text-align: right;\">\n",
       "      <th></th>\n",
       "      <th>city</th>\n",
       "      <th>churn_x</th>\n",
       "      <th>churn_y</th>\n",
       "      <th>percent</th>\n",
       "    </tr>\n",
       "  </thead>\n",
       "  <tbody>\n",
       "    <tr>\n",
       "      <th>0</th>\n",
       "      <td>Ростов Великий</td>\n",
       "      <td>120</td>\n",
       "      <td>2509</td>\n",
       "      <td>4.78</td>\n",
       "    </tr>\n",
       "    <tr>\n",
       "      <th>1</th>\n",
       "      <td>Рыбинск</td>\n",
       "      <td>73</td>\n",
       "      <td>2477</td>\n",
       "      <td>2.95</td>\n",
       "    </tr>\n",
       "    <tr>\n",
       "      <th>2</th>\n",
       "      <td>Ярославль</td>\n",
       "      <td>133</td>\n",
       "      <td>5014</td>\n",
       "      <td>2.65</td>\n",
       "    </tr>\n",
       "  </tbody>\n",
       "</table>\n",
       "</div>"
      ],
      "text/plain": [
       "             city  churn_x  churn_y  percent\n",
       "0  Ростов Великий      120     2509     4.78\n",
       "1         Рыбинск       73     2477     2.95\n",
       "2       Ярославль      133     5014     2.65"
      ]
     },
     "execution_count": 30,
     "metadata": {},
     "output_type": "execute_result"
    }
   ],
   "source": [
    "c = pr_run.pivot_table(index='city', values='churn', aggfunc='count').reset_index()\n",
    "z = df.pivot_table(index='city', values='churn', aggfunc='count').reset_index()\n",
    "c = c.merge(z, on='city')\n",
    "c['percent'] = round(c['churn_x']/c['churn_y']*100,2)\n",
    "c\n",
    "# Категория клиентов по количеству также разбита одинаково по всем городам"
   ]
  },
  {
   "cell_type": "code",
   "execution_count": 31,
   "metadata": {},
   "outputs": [],
   "source": [
    "# Кредитный рейтинг, количество объектов, баланс, зарплата, наличие кредитной карты и лояльность выделенных категорий \n",
    "#по статичтическим показателям совпадают с показателями основного датасета (на основании данных функции describe), \n",
    "#поэтому не нуждаются в дополнительной проверке на наличие скрытых зависимостей"
   ]
  },
  {
   "cell_type": "markdown",
   "metadata": {},
   "source": [
    "### 3.3 Вывод\n",
    "На базе проведенного исследовательского анализа выявлено, что наиболее склонны к оттоку:\n",
    "\n",
    "+ Клиенты после 40 лет\n",
    "+ Клиенты, которые имеют 3 или 4 банковских продукта\n",
    "\n",
    "Подробный анализ категорий этих клиентов показал, что других признаков, которые могут повлиять на факт оттока нет.\n",
    "\n",
    "\n",
    "- Также установлено, что в Ростове доля оттока клиентов в два раза выше, чем в остальных городах."
   ]
  },
  {
   "cell_type": "markdown",
   "metadata": {},
   "source": [
    "## 4. Статистический анализ данных"
   ]
  },
  {
   "cell_type": "markdown",
   "metadata": {},
   "source": [
    "### 4.1 Формирование гипотез "
   ]
  },
  {
   "cell_type": "code",
   "execution_count": 32,
   "metadata": {},
   "outputs": [],
   "source": [
    "#H0: Доход  ушедших  клиентов равен доходу неушедших клиентов\n",
    "#H1 Доход  ушедших  клиентов не равен доходу неушедших клиентов"
   ]
  },
  {
   "cell_type": "code",
   "execution_count": 33,
   "metadata": {},
   "outputs": [
    {
     "name": "stdout",
     "output_type": "stream",
     "text": [
      "p-значение: 0.22644042802223346\n",
      "Не получилось отвергнуть нулевую гипотезу, доходы равны\n"
     ]
    }
   ],
   "source": [
    "alpha = .05\n",
    "\n",
    "norun = df.query('churn == 0')\n",
    "h1_norun = norun['estimated_salary']  \n",
    "\n",
    "run = df.query('churn == 1')\n",
    "h1_run = run['estimated_salary']  \n",
    "\n",
    "h1_results = st.ttest_ind(\n",
    "    h1_run, \n",
    "    h1_norun)\n",
    "\n",
    "print('p-значение:', h1_results.pvalue)\n",
    "\n",
    "if (h1_results.pvalue < alpha):\n",
    "    print(\"Отвергаем нулевую гипотезу\")\n",
    "else:\n",
    "    print(\"Не получилось отвергнуть нулевую гипотезу, доходы равны\")"
   ]
  },
  {
   "cell_type": "code",
   "execution_count": 34,
   "metadata": {},
   "outputs": [],
   "source": [
    "# На базе пункта 3.1 о разных долях удержанных клиентов в разных городах необходимо проверить гипотезу:\n",
    "\n",
    "#H0: Доход клиентов в Ростове равен доходу клиентов в других городах\n",
    "#H1: Доход клиентов в Ростове не равен доходу клиентов в других городах"
   ]
  },
  {
   "cell_type": "code",
   "execution_count": 35,
   "metadata": {},
   "outputs": [
    {
     "name": "stdout",
     "output_type": "stream",
     "text": [
      "p-значение: 0.3031953135186744\n",
      "Не получилось отвергнуть нулевую гипотезу, доходы равны\n"
     ]
    }
   ],
   "source": [
    "alpha = .05\n",
    "\n",
    "h1_ro = df.query('city == \"Ростов Великий\"')\n",
    "h1_ro = h1_ro['estimated_salary']\n",
    "\n",
    "h1_oth = df.query('city != \"Ростов Великий\"')\n",
    "h1_oth = h1_oth['estimated_salary']  \n",
    "\n",
    "h1_results = st.ttest_ind(\n",
    "    h1_ro, \n",
    "    h1_oth)\n",
    "\n",
    "print('p-значение:', h1_results.pvalue)\n",
    "\n",
    "if (h1_results.pvalue < alpha):\n",
    "    print(\"Отвергаем нулевую гипотезу\")\n",
    "else:\n",
    "    print(\"Не получилось отвергнуть нулевую гипотезу, доходы равны\")"
   ]
  },
  {
   "cell_type": "markdown",
   "metadata": {},
   "source": [
    "## 5. Общие выводы и рекомендации"
   ]
  },
  {
   "cell_type": "markdown",
   "metadata": {},
   "source": [
    "### 5.1 Выводы"
   ]
  },
  {
   "cell_type": "markdown",
   "metadata": {},
   "source": [
    "В рамках данного исследования был произведен анализ клиентов регионального банка. \n",
    "По результатам этого анализа решены следующие задачи:\n",
    "+ Проведение исследовательского анализа данных\n",
    "+ Выявление категорий клиентов склонных к оттоку:\n",
    "    1. Клиенты в возрасте старше 40\n",
    "    2. Клиенты, которые имеют 3 или 4 банковских продукта\n",
    "+ Сформулированы и проверены статистические гипотезы касательно различий в уровнях дохода у разных категорий клиентов\n",
    "    1. Доход ушедших клиентов, равен доходу удержанных клиентов \n",
    "    2. Доход клиентов в Ростове равен доходу в остальных городах"
   ]
  },
  {
   "cell_type": "markdown",
   "metadata": {},
   "source": [
    "### 5.2 Рекомендации"
   ]
  },
  {
   "cell_type": "markdown",
   "metadata": {},
   "source": [
    "#### Для решения проблемы оттока клиентов предлагаю:\n",
    "1. Сформировать льготные условия обслуживания для людей в возрасте старше 40 \n",
    "2. Сфокусировать усилия отдела продаж и отдела по работе с клиентами на то, чтобы не предлагать больше 2 продуктов клиенту по причине того, что он может отказаться от наших услуг\n",
    "3. Пересмотреть политику маркетинга и обслуживания клиентов в Ростове для привлечения большего количества клиентов. Как вариант предложить клиентам в этом городе ипотеку по более низкому проценту\n",
    "5. Предложить клиентам политику начисления дополнительных процентов по вкладам, если на счету находится более 120 тысяч"
   ]
  },
  {
   "cell_type": "markdown",
   "metadata": {},
   "source": [
    "# 6. Визуализация результатов"
   ]
  },
  {
   "cell_type": "markdown",
   "metadata": {},
   "source": [
    "### 6.1 Ссылка на дашборд:"
   ]
  },
  {
   "cell_type": "markdown",
   "metadata": {},
   "source": [
    "### https://public.tableau.com/app/profile/dim5400/viz/Book1_16643919287200/Dashboard2?publish=yes"
   ]
  },
  {
   "cell_type": "markdown",
   "metadata": {},
   "source": [
    "### 6.2 Презентация\n",
    "1. Цели и задачи исследования\n",
    "2. Выявление категорий клиентов склонных к оттоку\n",
    "3. Результаты проверки гипотез\n",
    "4. Выводы и рекомендации"
   ]
  },
  {
   "cell_type": "code",
   "execution_count": null,
   "metadata": {},
   "outputs": [],
   "source": []
  }
 ],
 "metadata": {
  "kernelspec": {
   "display_name": "Python 3",
   "language": "python",
   "name": "python3"
  },
  "language_info": {
   "codemirror_mode": {
    "name": "ipython",
    "version": 3
   },
   "file_extension": ".py",
   "mimetype": "text/x-python",
   "name": "python",
   "nbconvert_exporter": "python",
   "pygments_lexer": "ipython3",
   "version": "3.8.5"
  }
 },
 "nbformat": 4,
 "nbformat_minor": 4
}
